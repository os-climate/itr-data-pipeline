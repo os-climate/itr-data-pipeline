{
 "cells": [
  {
   "cell_type": "markdown",
   "id": "4896e4d6-daa5-4708-9f43-0d599ba7e670",
   "metadata": {
    "tags": []
   },
   "source": [
    "# ITR Data Pipeline\n",
    "\n",
    "The ITR data pipeline organizes and assembles data needed for the ITR tool.  The data may come from many sources, but the output of this pipeline is a complete, consistent dataset that can be fully interrogated by the ITR tool.  If users wish to add additional data or analyze additional portfolio companies, they must create a new dataset using this pipeline.\n",
    "\n",
    "These are the data needed to create the ITR dataset:\n",
    "* Global Parameters (just for reference--we do nothing with them here)\n",
    "* Industry Data (Sector Projections aka Benchmarks)\n",
    "* Portfolio Data (Must cover all the stocks a user may query)\n",
    "* Company Data (Must cover all companies in all possible portfolio universes)\n",
    "* Automization (Must cover all years and scenarios a user may query)\n",
    "\n",
    "Note that the portfolio_universe table goes into an accessible sandbox because it's composed of DERA and other data and useful to all.  Ditto isic_to_sector.  All ITR-specific data goes into {demo_schema} with an {itr_prefix} prefix.\n",
    "\n",
    "The ITR tool can create secondary datasets:\n",
    "* Cumulative emissions targets trajectories\n",
    "* Cumulative emissions budgets\n",
    "* Target and trajectory overshoot/undershoot ratios\n",
    "* Target and trajectory temperature scores\n",
    "\n",
    "These secondary datasets are not the concern of this pipeline."
   ]
  },
  {
   "cell_type": "code",
   "execution_count": null,
   "id": "78ba9b8d-2806-4c3a-9c19-0253fd3a8db2",
   "metadata": {},
   "outputs": [],
   "source": [
    "from dotenv import dotenv_values, load_dotenv\n",
    "import os\n",
    "import pathlib\n",
    "import numpy as np\n",
    "import pandas as pd\n",
    "import trino\n",
    "from sqlalchemy.engine import create_engine\n",
    "import osc_ingest_trino as osc\n",
    "\n",
    "# import python_pachyderm"
   ]
  },
  {
   "cell_type": "code",
   "execution_count": null,
   "id": "cc527cbc-3c9e-429f-bd23-9bb40446d6f8",
   "metadata": {},
   "outputs": [],
   "source": [
    "import osc_ingest_trino as osc\n",
    "\n",
    "# from ITR.data.osc_units import *\n",
    "import io"
   ]
  },
  {
   "cell_type": "code",
   "execution_count": null,
   "id": "ca0ebd26-cdd3-498f-972a-2139a6f76752",
   "metadata": {},
   "outputs": [],
   "source": [
    "# See data-platform-demo/pint-demo.ipynb for quantify/dequantify functions\n",
    "\n",
    "import warnings  # needed until quantile behaves better with Pint quantities in arrays\n",
    "from pint import set_application_registry, Quantity\n",
    "from pint_pandas import PintArray, PintType\n",
    "from common_units import ureg\n",
    "\n",
    "# openscm_units doesn't make it easy to set preprocessors.  This is one way to do it.\n",
    "unit_registry.preprocessors = [\n",
    "    lambda s1: s1.replace(\"passenger km\", \"passenger_km\"),\n",
    "    lambda s2: s2.replace(\"BoE\", \"boe\"),\n",
    "]\n",
    "import ITR\n",
    "from ITR.interfaces import EScope\n",
    "\n",
    "Q_ = ureg.Quantity\n",
    "PA_ = PintArray"
   ]
  },
  {
   "cell_type": "markdown",
   "id": "92c01c2f-6d14-4049-ad89-4f9ab322e4fd",
   "metadata": {},
   "source": [
    "### Environment variables and dot-env\n",
    "\n",
    "ureg.define(\"CO2e = CO2 = CO2eq = CO2_eq\")\n",
    "ureg.define(\"Fe = [iron] = Steel\")\n",
    "ureg.define(\"iron = Fe\")\n",
    "ureg.define(\"Al = [aluminum] = Aluminum\")\n",
    "ureg.define(\"aluminum = Al\")\n",
    "ureg.define(\"Cement = [cement]\")\n",
    "ureg.define(\"cement = Cement\")\n",
    "\n",
    "# These are for later\n",
    "ureg.define(\"fraction = [] = frac\")\n",
    "ureg.define(\"percent = 1e-2 frac = pct = percentage\")\n",
    "ureg.define(\"ppm = 1e-6 fraction\")\n",
    "\n",
    "ureg.define(\"USD = [currency]\")\n",
    "ureg.define(\"EUR = nan USD\")\n",
    "ureg.define(\"JPY = nan USD\")\n",
    "\n",
    "ureg.define(\"btu = Btu\")\n",
    "ureg.define(\"boe = 5.712 GJ\")\n",
    "\n",
    "# Transportation activity\n",
    "\n",
    "ureg.define(\"vehicle = [vehicle] = v\")\n",
    "ureg.define(\"passenger = [passenger] = p = pass\")\n",
    "ureg.define(\"vkm = vehicle * kilometer\")\n",
    "ureg.define(\"pkm = passenger * kilometer\")\n",
    "ureg.define(\"tkm = tonne * kilometer\")\n",
    "\n",
    "ureg.define(\"hundred = 1e2\")\n",
    "ureg.define(\"thousand = 1e3\")\n",
    "ureg.define(\"million = 1e6\")\n",
    "ureg.define(\"billion = 1e9\")\n",
    "ureg.define(\"trillion = 1e12\")\n",
    "ureg.define(\"quadrillion = 1e15\")"
   ]
  },
  {
   "cell_type": "markdown",
   "id": "c0c52bbc-5b41-43aa-8fde-5c737d5c9183",
   "metadata": {},
   "source": [
    "Define Environment and Execution Variables"
   ]
  },
  {
   "cell_type": "code",
   "execution_count": null,
   "id": "0f951a12-1266-4551-868c-ebe04966970e",
   "metadata": {},
   "outputs": [],
   "source": [
    "# Load environment variables from credentials.env\n",
    "osc.load_credentials_dotenv()"
   ]
  },
  {
   "cell_type": "markdown",
   "id": "5f501c46-753e-4c3a-8aac-d573745ec482",
   "metadata": {},
   "source": [
    "### S3 and boto3"
   ]
  },
  {
   "cell_type": "code",
   "execution_count": null,
   "id": "491b3688-8a64-467c-a99e-6db65fa864e6",
   "metadata": {},
   "outputs": [],
   "source": [
    "import boto3\n",
    "\n",
    "s3_source = boto3.resource(\n",
    "    service_name=\"s3\",\n",
    "    endpoint_url=os.environ[\"S3_LANDING_ENDPOINT\"],\n",
    "    aws_access_key_id=os.environ[\"S3_LANDING_ACCESS_KEY\"],\n",
    "    aws_secret_access_key=os.environ[\"S3_LANDING_SECRET_KEY\"],\n",
    ")\n",
    "source_bucket = s3_source.Bucket(os.environ[\"S3_LANDING_BUCKET\"])"
   ]
  },
  {
   "cell_type": "markdown",
   "id": "a12b224f-addc-43ec-b53e-d684b4c8ef67",
   "metadata": {},
   "source": [
    "### Connecting to Trino with sqlalchemy\n",
    "\n",
    "In the context of the Data Vault, this pipeline operates with full visibiilty into all the data it prepares for the ITR tool.  When the data is output, it is labeled so that the Data Vault can enforce its data management access rules."
   ]
  },
  {
   "cell_type": "code",
   "execution_count": null,
   "id": "d8a756db-291f-48ad-8ae8-dad3da4af325",
   "metadata": {},
   "outputs": [],
   "source": [
    "ingest_catalog = \"osc_datacommons_dev\"\n",
    "ingest_schema = \"mdt_sandbox\"\n",
    "dera_schema = \"dera\"\n",
    "dera_prefix = \"dera_\"\n",
    "gleif_schema = \"sandbox\"\n",
    "rmi_schema = \"rmi\"\n",
    "rmi_prefix = \"\"\n",
    "iso3166_schema = \"mdt_sandbox\"\n",
    "essd_schema = \"essd\"\n",
    "essd_prefix = \"\"\n",
    "demo_schema = \"demo_dv\"\n",
    "\n",
    "itr_prefix = \"itr_\"\n",
    "\n",
    "engine = osc.attach_trino_engine(verbose=True, catalog=ingest_catalog)"
   ]
  },
  {
   "cell_type": "markdown",
   "id": "5ab27f9b-c363-432a-abcb-67b3be944191",
   "metadata": {},
   "source": [
    "## Global Parameters\n",
    "\n",
    "These parameters are set/selected by the ITR tool.  They are included here for reference only (the following is not live code)."
   ]
  },
  {
   "cell_type": "raw",
   "id": "ea52c2d9-3a6e-4bd3-b827-a76689f055b9",
   "metadata": {},
   "source": [
    "tcre = 2.2\n",
    "\n",
    "carb_conversion = 3664\n",
    "\n",
    "BENCHMARK_GLOBAL_BUDGET = 860 # Gt CO2e\n",
    "\n",
    "benchmark_scenario_pathways = [ 'TPI', 'TPI_below_2', 'OECM' ]\n",
    "\n",
    "probability_of_acheiving_target = 0.5"
   ]
  },
  {
   "cell_type": "markdown",
   "id": "4cb09531-fe05-4779-93e4-978f340d951e",
   "metadata": {},
   "source": [
    "Create the ISIC-to-Sector table manually until we have a proper sector mapping table"
   ]
  },
  {
   "cell_type": "code",
   "execution_count": null,
   "id": "424f5fea-092f-48df-ac45-c37ad546cb7f",
   "metadata": {},
   "outputs": [],
   "source": [
    "i2s_df = pd.DataFrame(\n",
    "    {\"isic\": [2410, 3241, 3270, 3272, 4010], \"sector\": [\"Steel\", \"Cement\", \"Cement\", \"Cement\", \"Electricity Utilities\"]}\n",
    ").convert_dtypes()\n",
    "\n",
    "ingest_table = \"isic_to_sector\"\n",
    "drop_table = osc._do_sql(f\"drop table if exists {ingest_schema}.{ingest_table}\", engine, verbose=True)\n",
    "\n",
    "columnschema = osc.create_table_schema_pairs(i2s_df)\n",
    "\n",
    "tabledef = f\"\"\"\n",
    "create table if not exists {ingest_catalog}.{ingest_schema}.{ingest_table}(\n",
    "{columnschema}\n",
    ") with (\n",
    "    format = 'ORC',\n",
    "    partitioning = array['bucket(isic,20)']\n",
    ")\n",
    "\"\"\"\n",
    "\n",
    "qres = osc._do_sql(tabledef, engine, verbose=True)\n",
    "i2s_df.to_sql(\n",
    "    ingest_table,\n",
    "    con=engine,\n",
    "    schema=ingest_schema,\n",
    "    if_exists=\"append\",\n",
    "    index=False,\n",
    "    method=osc.TrinoBatchInsert(batch_size=2000, verbose=True),\n",
    ")"
   ]
  },
  {
   "cell_type": "markdown",
   "id": "e280caeb-f90a-4445-8804-bb68ad791f9b",
   "metadata": {},
   "source": [
    "## Portfolio Data\n",
    "\n",
    "The user will ultimately supply portfolio selection and position information to the ITR tool as part of the weighting calculations.  This part of the pipeline just collects the LEI and ISIN information for companies we should expect to analyze (i.e., companies for which we have fundamental financial information, production, intensity, and target information, in sectors for which we have benchmark projections).\n",
    "\n",
    "Because this pipeline does the full pre-computation of data for the tool, there is no sense carrying forward information that is not fully closed.  I.e., there's no reason to carry forward an LEI:ISIN relationship if there is no financial, production, or target information related to that LEI and/or ISIN.  The user does not add such data later; the data is collected and fully processed by this pipeline now."
   ]
  },
  {
   "cell_type": "markdown",
   "id": "3fc5398f-e268-44e5-a145-dbb83d0c695c",
   "metadata": {},
   "source": [
    "### Get LEI/ISIN data\n",
    "\n",
    "RMI handes us data already matched with LEIs and ISINs.  Other lists of company names may require us to stitch that together manually."
   ]
  },
  {
   "cell_type": "code",
   "execution_count": null,
   "id": "fa4a4574-fe56-4787-96a7-dd7cf6aba6d4",
   "metadata": {},
   "outputs": [],
   "source": [
    "# TODO: sort why some notorious utilities are missing LEIs in the following query--bad source data?\n",
    "rmi_lei_isin = pd.read_sql(\n",
    "    f\"select DISTINCT parent_name, parent_lei, isin from {rmi_schema}.utility_information_2023 where parent_name IS NOT NULL\",\n",
    "    engine,\n",
    ")\n",
    "# Fabricate LEIs for entities that have none\n",
    "missing_leis = list(rmi_lei_isin.loc[rmi_lei_isin.parent_lei.isnull()].parent_name.unique())\n",
    "print(f\"A list of 20 (of {len(missing_leis)} entities without valid parent_lei\")\n",
    "print(sorted(missing_leis[0:20]))\n",
    "rmi_lei_isin.loc[rmi_lei_isin.parent_lei.isnull(), \"parent_lei\"] = rmi_lei_isin.apply(\n",
    "    lambda x: f\"RMI{x.name:017}\", axis=1\n",
    ")\n",
    "rmi_lei_isin.loc[rmi_lei_isin[\"isin\"].isnull(), \"isin\"] = rmi_lei_isin.apply(lambda x: f\"ZZ{x.name:011}\", axis=1)\n",
    "# Install LEIs whose hierarchy levels don't match what we matched for SEC DERA data\n",
    "rmi_lei_isin.loc[rmi_lei_isin.parent_name == \"PG&E Corp.\", \"parent_lei\"] = \"8YQ2GSDWYZXO2EDN3511\"\n",
    "rmi_lei_isin.loc[rmi_lei_isin.parent_name == \"Verso Corp.\", \"parent_lei\"] = \"549300FODXCTQ8DGT594\"\n",
    "# FIXME: which of these two is correct?\n",
    "rmi_lei_isin.loc[rmi_lei_isin.parent_name == \"Verso Corp.\", \"parent_isin\"] = \"US92531L2079\"\n",
    "rmi_lei_isin.loc[rmi_lei_isin.parent_name == \"Verso Corp.\", \"isin\"] = \"US92531L2079\"\n",
    "rmi_lei_dict = dict(zip(rmi_lei_isin.parent_lei, rmi_lei_isin[\"isin\"]))"
   ]
  },
  {
   "cell_type": "markdown",
   "id": "fdf5d037-0fb1-4967-9b9d-5f43c33fa9d5",
   "metadata": {},
   "source": [
    "Implement an *ad hoc* ingestion pipeline for Steel portfolio.  Later we will ingest steel production data.  We use this only to define the universe, not for actual investment information."
   ]
  },
  {
   "cell_type": "code",
   "execution_count": null,
   "id": "7d5156ae-9acd-4955-80c0-63ba308f9e08",
   "metadata": {},
   "outputs": [],
   "source": [
    "steel_idx = pd.read_csv(\n",
    "    os.environ.get(\"PWD\") + f\"/itr-data-pipeline/data/external/mdt-steel-portfolio.csv\",\n",
    "    header=0,\n",
    "    sep=\";\",\n",
    "    usecols=[\"company_name\", \"company_lei\", \"company_id\"],\n",
    "    dtype=str,\n",
    "    engine=\"c\",\n",
    ")\n",
    "# display(steel_idx)"
   ]
  },
  {
   "cell_type": "markdown",
   "id": "4d3fc76a-21d6-42a0-8723-e3ad435d62cb",
   "metadata": {},
   "source": [
    "Prepare GLEIF matching data for SEC DERA data.  In the future, such matching will use the ESG Entity-Matching pipeline (https://github.com/os-climate/financial-entity-cleaner/tree/version_0.1.0)."
   ]
  },
  {
   "cell_type": "code",
   "execution_count": null,
   "id": "250ad414-9c15-416c-a420-a558baf03fee",
   "metadata": {},
   "outputs": [],
   "source": [
    "gleif_file = s3_source.Object(os.environ[\"S3_LANDING_BUCKET\"], \"mtiemann-GLEIF/DERA-matches.csv\")\n",
    "gleif_file.download_file(f\"/tmp/dera-gleif.csv\")\n",
    "gleif_df = pd.read_csv(f\"/tmp/dera-gleif.csv\", header=0, sep=\",\", dtype=str, engine=\"c\")\n",
    "gleif_dict = dict(zip(gleif_df.name, gleif_df.LEI))\n",
    "del gleif_df\n",
    "\n",
    "# Many of the following ISINs are bonds, but some are also stocks (on various exchanges)\n",
    "# But we don't need to load and match here, because the portfolio has the ISINs\n",
    "if False:\n",
    "    gleif_isin_file = s3_source.Object(os.environ[\"S3_LANDING_BUCKET\"], \"mtiemann-GLEIF/ISIN_LEI_20211009.csv\")\n",
    "    gleif_isin_file.download_file(f\"/tmp/ISIN_LEI_20211009.csv\")\n",
    "    gleif_isins = pd.read_csv(f\"/tmp/ISIN_LEI_20211009.csv\", header=0, sep=\",\", dtype=str, engine=\"c\")"
   ]
  },
  {
   "cell_type": "raw",
   "id": "8746afa7-9c7a-4a15-a4f0-bf86fd2dfaea",
   "metadata": {},
   "source": [
    "gleif_isins[gleif_isins.ISIN.str.startswith('JP')]"
   ]
  },
  {
   "cell_type": "markdown",
   "id": "d24c3aba-4e3a-4383-a11e-f797bd0100b3",
   "metadata": {},
   "source": [
    "Create a very simple entity matcher, cleaning up slight variations in company names between RMI's entity names, the SEC's entity names, and GLEIF's entity names.\n",
    "\n",
    "Commented out are names we would have to fix if there were SEC data for them.  But because not, we'll never match what's not there in the first place."
   ]
  },
  {
   "cell_type": "code",
   "execution_count": null,
   "id": "eaff4059-478c-434f-8642-0bc1b7f12343",
   "metadata": {},
   "outputs": [],
   "source": [
    "# gleif_dict['Basin Electric Power Coop'.upper()] = gleif_dict['BASIN ELECTRIC POWER COOPERATIVE']\n",
    "# gleif_dict['Big Rivers Electric Corp'.upper()] = gleif_dict['BIG RIVERS ELECTRIC CORPORATION']\n",
    "# gleif_dict['CHUGACH ELECTRIC ASSOCIATION INC'] = gleif_dict['CHUGACH ELECTRIC ASSN INC.']\n",
    "gleif_dict[\"Cleco Partners LP\".upper()] = gleif_dict[\"CLECO CORPORATE HOLDINGS LLC\"]\n",
    "# gleif_dict['Golden Spread Electric Coop., Inc'.upper()] = gleif_dict['GOLDEN SPREAD ELECTRIC COOPERATIVE, INC.']\n",
    "gleif_dict[\"MIDWEST ENERGY INC\"] = \"549300O4B5CVWMKUES27\"\n",
    "gleif_dict[\"OG&E Energy\".upper()] = gleif_dict[\"OGE ENERGY CORP.\"]\n",
    "# gleif_dict['Ohio Valley Electric Corp'.upper()] = gleif_dict['OHIO VALLEY ELECTRIC CORPORATION']\n",
    "gleif_dict[\"Old Dominion Electric Coop\".upper()] = gleif_dict[\"OLD DOMINION ELECTRIC COOPERATIVE\"]\n",
    "gleif_dict[\"PG&E Corp.\".upper()] = gleif_dict[\"PG&E CORP\"]\n",
    "gleif_dict[\"Tri-State Generation & Transmission Association\".upper()] = gleif_dict[\n",
    "    \"TRI-STATE GENERATION & TRANSMISSION ASSOCIATION, INC.\"\n",
    "]\n",
    "gleif_dict[\"GROUP SIMEC SA DE CV\"] = \"529900LCYCXPA0TZEU09\"\n",
    "gleif_dict[\"GRUPO SIMEC, S.A.B. DE C.V.\"] = gleif_dict[\"GROUP SIMEC SA DE CV\"]\n",
    "gleif_dict[\"FRIEDMAN INDUSTRIES INC\"] = \"549300VI5ADYNC8C3G47\"\n",
    "gleif_dict[\"LOMA NEGRA COMPANIA INDUSTRIAL ARGENTINA SOCIEDAD ANONIMA\"] = \"529900VKOQQJ8U9DDK92\"\n",
    "\n",
    "gleif_1 = {k.split(\",\")[0].split(\" \")[0]: v for k, v in gleif_dict.items()}\n",
    "gleif_2 = {\" \".join(k.split(\",\")[0].split(\" \")[0:2]): v for k, v in gleif_dict.items()}\n",
    "\n",
    "\n",
    "def gleif_match(x):\n",
    "    x = x.split(\",\")[0]\n",
    "    if x in gleif_dict:\n",
    "        return gleif_dict[x]\n",
    "    x = x.replace(\".\", \"\")\n",
    "    if x in gleif_dict:\n",
    "        return gleif_dict[x]\n",
    "    x2 = \" \".join(x.split(\" \")[0:2])\n",
    "    if x2 in gleif_2:\n",
    "        return gleif_2[x2]\n",
    "    if \" \" not in x and x in gleif_1:\n",
    "        return gleif_1[x]\n",
    "    return None"
   ]
  },
  {
   "cell_type": "markdown",
   "id": "c0da4bfb-8ce1-4330-b9db-ff9bdd3dfaa9",
   "metadata": {},
   "source": [
    "Collect the universe of company names for the sectors we cover.  Steel sector is SIC 3310-3317. Electricity Utilities is SIC 4911 (but also 4931-4932 and 4991).\n",
    "\n",
    "Some conglomerates have more general SIC codes that hide their activities in sectors of interest.  Others report those SIC codes within reportable segements.\n",
    "Without more detailed SEC DERA data (available in an S3 bucket but not yet processed as a pipeline), we will not collect the company names we need to collect."
   ]
  },
  {
   "cell_type": "code",
   "execution_count": null,
   "id": "d7c44a66-72f2-4e19-b8fc-b5093b0e62d2",
   "metadata": {},
   "outputs": [],
   "source": [
    "sec_lei_isin = pd.read_sql(\n",
    "    f\"\"\"\n",
    "select DISTINCT F.name, F.lei, F.sic\n",
    "from {dera_schema}.financials_by_lei F\n",
    "where (sic=4911 or sic=4931 or sic=4932 or sic=4991)\n",
    "      or (sic>=3241 and sic<=3272)\n",
    "      or (sic>=3310 and sic<=3317)\n",
    "\"\"\",\n",
    "    engine,\n",
    ")\n",
    "if False:\n",
    "    # These are all now fixed\n",
    "    sec_lei_isin.loc[sec_lei_isin.name == \"DOMINION ENERGY INC\", \"lei\"] = \"ILUL7B6Z54MRYCF6H308\"\n",
    "    sec_lei_isin.loc[sec_lei_isin.name == \"GROUP SIMEC SA DE CV\", \"lei\"] = \"529900LCYCXPA0TZEU09\"\n",
    "    sec_lei_isin.loc[sec_lei_isin.name == \"ENEL GENERACION CHILE S.A.\", \"lei\"] = \"549300PVHXUFEIE6LY50\"\n",
    "    sec_lei_isin.loc[sec_lei_isin.name == \"POSCO HOLDINGS INC.\", \"lei\"] = \"988400E5HRVX81AYLM04\"\n",
    "    sec_lei_isin.loc[sec_lei_isin.name == \"ARCHAEA ENERGY INC.\", \"lei\"] = \"549300ZBE567NNMH7V89\"\n",
    "    sec_lei_isin.loc[sec_lei_isin.name == \"CLEANSPARK, INC.\", \"lei\"] = \"254900VO7KBRJQDGY810\"\n",
    "    sec_lei_isin.loc[sec_lei_isin.name == \"ALGOMA STEEL GROUP INC.\", \"lei\"] = \"549300Q5EU337A1XCX27\"\n",
    "    sec_lei_isin.loc[sec_lei_isin.name == \"ECO WAVE POWER GLOBAL AB (PUBL)\", \"lei\"] = \"5493003GP1XAFTYRJM76\"\n",
    "    sec_lei_isin.loc[sec_lei_isin.name == \"FRIEDMAN INDUSTRIES INC\", \"lei\"] = \"549300VI5ADYNC8C3G47\"\n",
    "    sec_lei_isin.loc[sec_lei_isin.name == \"RENEW ENERGY GLOBAL PLC\", \"lei\"] = \"254900SL77LA2KAG7R65\"\n",
    "    sec_lei_isin.loc[sec_lei_isin.name == \"808 RENEWABLE ENERGY CORP\", \"lei\"] = \"5493005N3PLQ26Z8SJ60\"\n",
    "\n",
    "    # CPFL ENERGIA S.A.\n",
    "    sec_lei_isin.loc[sec_lei_isin.name == \"CPFL ENERGY INC\", \"lei\"] = \"529900GBWSBDXN8GGM28\"\n",
    "\n",
    "    # PAMPA ENERGIA S A 254900QNIK0CVURGML24\n",
    "    sec_lei_isin.loc[sec_lei_isin.name == \"PAMPA ENERGY INC.\", \"lei\"] = \"254900QNIK0CVURGML24\"\n",
    "\n",
    "    # COMPANHIA ENERGETICA DE MINAS GERAIS CEMIG\n",
    "    sec_lei_isin.loc[sec_lei_isin.name == \"ENERGY CO OF MINAS GERAIS\", \"lei\"] = \"254900W703PXLDSEM056\"\n",
    "\n",
    "    # Centrais Elétricas Brasileiras S/A\n",
    "    sec_lei_isin.loc[sec_lei_isin.name == \"BRAZILIAN ELECTRIC POWER CO\", \"lei\"] = \"254900I8KYDELP4B4Z08\"\n",
    "\n",
    "# GRUPOSIMEC, S.A.B. de C.V.\n",
    "sec_lei_isin.loc[sec_lei_isin.name == \"GRUPO SIMEC, S.A.B. DE C.V.\", \"lei\"] = \"529900LCYCXPA0TZEU09\"\n",
    "\n",
    "# PAMPA ENERGIA S A 254900QNIK0CVURGML24\n",
    "sec_lei_isin.loc[sec_lei_isin.name == \"PAMPA ENERGY INC.\", \"lei\"] = \"254900QNIK0CVURGML24\"\n",
    "\n",
    "# COMPANHIA ENERGETICA DE MINAS GERAIS CEMIG\n",
    "sec_lei_isin.loc[sec_lei_isin.name == \"ENERGY CO OF MINAS GERAIS\", \"lei\"] = \"254900W703PXLDSEM056\"\n",
    "\n",
    "# Centrais Elétricas Brasileiras S/A\n",
    "sec_lei_isin.loc[sec_lei_isin.name == \"BRAZILIAN ELECTRIC POWER CO\", \"lei\"] = \"254900I8KYDELP4B4Z08\"\n",
    "# FIXME: are these necessary?\n",
    "sec_lei_isin.loc[sec_lei_isin.name == \"GRUPO SIMEC, S.A.B. DE C.V.\", \"lei\"] = gleif_dict[\"GROUP SIMEC SA DE CV\"]\n",
    "sec_lei_isin.loc[sec_lei_isin.name == \"FRIEDMAN INDUSTRIES INC\", \"lei\"] = gleif_dict[\"FRIEDMAN INDUSTRIES INC\"]\n",
    "sec_lei_isin.loc[sec_lei_isin.name == \"LOMA NEGRA COMPANIA INDUSTRIAL ARGENTINA SOCIEDAD ANONIMA\", \"lei\"] = gleif_dict[\n",
    "    \"LOMA NEGRA COMPANIA INDUSTRIAL ARGENTINA SOCIEDAD ANONIMA\"\n",
    "]\n",
    "\n",
    "missing_leis = sec_lei_isin[sec_lei_isin.lei.isna()]\n",
    "sec_lei_isin.dropna(inplace=True)\n",
    "print(\"The following companies are missing LEI information and will be dropped:\")\n",
    "display(missing_leis)"
   ]
  },
  {
   "cell_type": "markdown",
   "id": "d499dc41-76cc-4d5c-9736-bab2b8d28b63",
   "metadata": {},
   "source": [
    "We create a theoretical portfolio that conveniently contains all available LEI and ISIN information, meaning we don't need to do entity matching or ISIN matching.\n",
    "\n",
    "Other portfolios may need a lot more work before they can be used to precompute other data.  The code above are samples of the kind of extra data/processing needed for such portfolios."
   ]
  },
  {
   "cell_type": "code",
   "execution_count": null,
   "id": "52414db4-a7ad-402c-ad15-70604c02d391",
   "metadata": {},
   "outputs": [],
   "source": [
    "rmi_idx = rmi_lei_isin.rename(\n",
    "    columns={\"parent_name\": \"company_name\", \"parent_lei\": \"company_lei\", \"isin\": \"company_id\"}\n",
    ")\n",
    "# rmi_idx.insert(1, 'company_lei', portfolio_df.company_name.str.upper().map(gleif_match))\n",
    "# if rmi_idx.company_lei.isna().any():\n",
    "#     display(rmi_idx[rmi_idx.company_lei.isna()])\n",
    "rmi_idx.loc[rmi_idx.company_id.isna(), \"company_id\"] = rmi_idx.apply(lambda x: f\"ZZ{x.name:010}\", axis=1)\n",
    "\n",
    "print(f\"Number of RMI portfolio copmanies = {len(rmi_idx)}\")"
   ]
  },
  {
   "cell_type": "markdown",
   "id": "97b30fb3-8426-4c3b-bf0f-f863766b0bdd",
   "metadata": {},
   "source": [
    "Show list of RMI companies that use made-up LEIs or ISINs"
   ]
  },
  {
   "cell_type": "raw",
   "id": "0705b84e-4356-4ecc-8555-c9547668afc7",
   "metadata": {},
   "source": [
    "rmi_idx[rmi_idx.company_lei.str.startswith('RMI')].to_csv('/tmp/unmatched-rmi.csv', index=False)"
   ]
  },
  {
   "cell_type": "code",
   "execution_count": null,
   "id": "f1221ad6-adc3-4555-ab89-138d4510fc4e",
   "metadata": {},
   "outputs": [],
   "source": [
    "rmi_idx[rmi_idx.company_lei.str.startswith(\"RMI\")]"
   ]
  },
  {
   "cell_type": "markdown",
   "id": "59f4945b-0808-4a79-8b42-fe2dad9bb7e1",
   "metadata": {},
   "source": [
    "Add Steel company portfolio"
   ]
  },
  {
   "cell_type": "code",
   "execution_count": null,
   "id": "ef354be5-0662-45de-bcbb-195ee706e5d5",
   "metadata": {},
   "outputs": [],
   "source": [
    "portfolio_idx = pd.concat([rmi_idx, steel_idx])\n",
    "portfolio_idx = portfolio_idx.convert_dtypes()\n",
    "\n",
    "print(f\"Number of total portfolio companies = {len(portfolio_idx)}\")"
   ]
  },
  {
   "cell_type": "markdown",
   "id": "df6ae7d1-a2cc-470f-9f77-8e529301701c",
   "metadata": {},
   "source": [
    "### Company Data\n",
    "\n",
    "The SIC-to-ISIC table is an open workstream item: https://github.com/os-climate/itr-data-pipeline/issues/1"
   ]
  },
  {
   "cell_type": "raw",
   "id": "ec46a779-0abd-41c5-9142-058f094b7a60",
   "metadata": {},
   "source": [
    "osc._do_sql(f\"select * from {dera_schema}.sic_isic\", engine, verbose=True)"
   ]
  },
  {
   "cell_type": "markdown",
   "id": "f4873aad-22e5-4df3-be72-d3ffb79f7403",
   "metadata": {},
   "source": [
    "### Capture a list of the companies for which we have good financial info\n",
    "\n",
    "We limit our view to the companies in our portfolio.  The user can prioritize whether this is the best source of revenue, market cap, etc., or whether they prefer another source.\n",
    "\n",
    "Note for future reference: Berkshire Hathaway has one line of business for Energy and another for Steel.  We don't yet have line-of-business info because we use summary data from SEC DERA, not the detailed Notes version of the dataset."
   ]
  },
  {
   "cell_type": "code",
   "execution_count": null,
   "id": "c1dc44f6-89b5-41a4-b3ff-1f762d3b714a",
   "metadata": {},
   "outputs": [],
   "source": [
    "ingest_table = \"portfolio_universe\"\n",
    "\n",
    "drop_table = osc._do_sql(f\"drop table if exists {ingest_schema}.{ingest_table}\", engine, verbose=True)\n",
    "\n",
    "columnschema = osc.create_table_schema_pairs(portfolio_idx, typemap={\"datetime64[ns]\": \"timestamp(6)\"})\n",
    "\n",
    "tabledef = f\"\"\"\n",
    "create table if not exists {ingest_catalog}.{ingest_schema}.{ingest_table}(\n",
    "{columnschema}\n",
    ") with (\n",
    "    format = 'ORC',\n",
    "    partitioning = array['bucket(company_lei, 20)']\n",
    ")\n",
    "\"\"\"\n",
    "create_table = osc._do_sql(tabledef, engine, verbose=True)\n",
    "portfolio_idx.to_sql(\n",
    "    ingest_table,\n",
    "    con=engine,\n",
    "    schema=ingest_schema,\n",
    "    if_exists=\"append\",\n",
    "    index=False,\n",
    "    method=osc.TrinoBatchInsert(batch_size=5000, verbose=True),\n",
    ")"
   ]
  },
  {
   "cell_type": "markdown",
   "id": "d15fc2a4-7a7b-46db-9104-400a80a52a3d",
   "metadata": {},
   "source": [
    "### Create a list with metric labels embedded in the output for easy reading...\n",
    "\n",
    "Highlight any rows that have NULL data"
   ]
  },
  {
   "cell_type": "raw",
   "id": "eac386a7-44dd-4122-b268-e5855865974e",
   "metadata": {},
   "source": [
    "qres = engine.execute(f\"\"\"\n",
    "select F.name, F.lei, T.tname, U2.parent_ticker, F.sic, F.ddate,\n",
    "       'revenue' as rl, round (F.revenue_usd/1000000.0, 1), round (RT2.fy_revenue_total/1000000.0, 1), round (CS2.fy_revenues/1000000.0, 1), round (F.revenue_usd/RT2.fy_revenue_total, 1), round (F.revenue_usd/CS2.fy_revenues, 1),\n",
    "       'market_cap' as fl, round (F.market_cap_usd/1000000.0, 1),\n",
    "       'EV' as el, round ((F.market_cap_usd+F.debt_usd-F.cash_usd)/1000000, 1),\n",
    "       'assets' as al, round (F.assets_usd/1000000.0, 1), round (AEI2.asset_value/1000000.0, 1), round (F.assets_usd/AEI2.asset_value, 1),\n",
    "       'cash' as cc, round (F.cash_usd/1000000.0, 1),\n",
    "       -- 'income' as il, F.income_usd/1000000.0, AEI2.fy_earnings_value/1000000.0, F.income_usd/AEI2.fy_earnings_value,\n",
    "       'counts: ulei, aei, rt, cs' as legend, c_ulei, c_aei, c_rt, c_cs\n",
    "from {ingest_schema}.portfolio_universe as P\n",
    "     join (select count (*) as c_ulei, U.parent_name, U.parent_lei, U.parent_ticker\n",
    "           from {rmi_schema}.utility_information as U\n",
    "           group by U.parent_name, U.parent_lei, U.parent_ticker) as U2 on U2.parent_lei=P.company_lei\n",
    "     join sec_dera.financials_by_lei as F on F.lei=P.company_lei\n",
    "     join (select count (*) as c_cs, CS.parent_name, CS.year, sum(revenues) as fy_revenues\n",
    "           from {rmi_schema}.customers_sales as CS\n",
    "           group by CS.parent_name, CS.year) as CS2 on CS2.parent_name=U2.parent_name and year(CS2.year)=year(F.ddate)\n",
    "     join (select count (*) as c_aei, AEI.parent_name, AEI.year, sum(AEI.asset_value) as asset_value, sum(AEI.earnings_value) as fy_earnings_value\n",
    "           from {rmi_schema}.assets_earnings_investments as AEI\n",
    "           group by AEI.parent_name, AEI.year) as AEI2 on AEI2.parent_name=U2.parent_name and year(AEI2.year)=year(F.ddate)\n",
    "     left join (select count (*) as c_rt, RT.parent_name, RT.year, sum(RT.revenue_total) as fy_revenue_total\n",
    "           from {rmi_schema}.revenue_by_tech as RT\n",
    "           group by RT.parent_name, RT.year) as RT2 on RT2.parent_name=U2.parent_name and year(RT2.year)=year(F.ddate)\n",
    "     left join sec_dera.ticker T on F.cik=T.cik and upper(T.tname)=U2.parent_ticker\n",
    "where year(F.ddate)=2019\n",
    "order by F.name\n",
    "\"\"\")\n",
    "\n",
    "l = qres.fetchall()\n",
    "print(len(l))\n",
    "[x for x in l if any(x) is None]"
   ]
  },
  {
   "cell_type": "markdown",
   "id": "1dc1b217-5f10-4084-90e0-202328bda080",
   "metadata": {},
   "source": [
    "### Capture and print a list of companies with financial info\n",
    "\n",
    "Financial information is part of the \"fundamental data\" we need for the ITR portfolio companies.  The other part is base year production, emission, and intensity data.  We query the two separately because we have a unified source of truth for the former (SEC DERA) but multiple sources for the latter (RMI for Electric Utilities and MDT for Steel)."
   ]
  },
  {
   "cell_type": "markdown",
   "id": "f964835a-2601-4000-a58b-a0904f0a725d",
   "metadata": {},
   "source": [
    "### Financial info:\n",
    "* Company Name, LEI, ISIN, year\n",
    "* ISIC Code (for Sector)\n",
    "* Country and Region\n",
    "* Revenue, Market Cap, Enterprise Value, Assets, Cash\n",
    "\n",
    "We currently focus exclusively on data from 2019 as our base year"
   ]
  },
  {
   "cell_type": "code",
   "execution_count": null,
   "id": "e490fcf7-d78f-4afc-b336-8c3da686d67b",
   "metadata": {},
   "outputs": [],
   "source": [
    "base_financial_sql = f\"\"\"\n",
    "select DISTINCT P.company_name, P.company_lei, P.company_id,\n",
    "       F.country, UN.region_ar6_10 as region,\n",
    "       if(S2I.isic in (2410, 3310, 3312) or P.company_name='CLEVELAND-CLIFFS INC', 'Steel', if (S2I.isic>=3241 and S2I.isic<=3272, 'Cement', 'Electricity Utilities')) as sector,\n",
    "       'equity' as exposure, 'USD' as currency,\n",
    "       year(F.ddate) as year,\n",
    "       F.market_cap_usd as company_market_cap,\n",
    "       F.revenue_usd as company_revenue,\n",
    "       F.market_cap_usd+F.debt_usd-F.cash_usd as company_ev,\n",
    "       F.market_cap_usd+F.debt_usd as company_evic,\n",
    "       F.assets_usd as company_total_assets,\n",
    "       F.cash_usd as company_cash_equivalents,\n",
    "       F.debt_usd as company_debt\n",
    "from {ingest_schema}.portfolio_universe as P\n",
    "     join {dera_schema}.financials_by_lei as F on F.lei=P.company_lei and year(F.ddate)=2019\n",
    "     join {iso3166_schema}.countries as I on F.country=I.alpha_2\n",
    "     join {essd_schema}.{essd_prefix}regions as UN on I.alpha_3=UN.iso\n",
    "     -- join {dera_schema}.{dera_prefix}sub as S on S.cik=F.cik\n",
    "     -- left join {rmi_schema}.{rmi_prefix}utility_information_2023 as U on U.parent_lei=P.company_lei\n",
    "     -- left join {gleif_schema}.gleif_isin_lei G on G.lei=P.lei and G.isin=U.isin\n",
    "     left join {dera_schema}.sic_isic as S2I on S2I.sic=F.sic\n",
    "     -- left join {rmi_schema}.{rmi_prefix}operations_emissions_by_fuel as E on U.utility_id_eia=E.utility_id_eia and year(E.year)=year(F.ddate)\n",
    "-- where E.owned_or_total='owned'\n",
    "group by P.company_name, P.company_lei, P.company_id,\n",
    "       F.country, UN.region_ar6_10,\n",
    "       if(S2I.isic in (2410, 3310, 3312) or P.company_name='CLEVELAND-CLIFFS INC', 'Steel', if (S2I.isic>=3241 and S2I.isic<=3272, 'Cement', 'Electricity Utilities')),\n",
    "       6, 7, -- exposure, currency\n",
    "       year(F.ddate),\n",
    "       F.market_cap_usd, F.revenue_usd, F.market_cap_usd+F.debt_usd-F.cash_usd, F.market_cap_usd+F.debt_usd, F.assets_usd, F.cash_usd, F.debt_usd\n",
    "order by P.company_name\n",
    "\"\"\""
   ]
  },
  {
   "cell_type": "markdown",
   "id": "0b45c0a8-e2da-4824-a8dd-30e6d28da9ff",
   "metadata": {},
   "source": [
    "### Emissions/Production info\n",
    "* Company Name, LEI, ISIN (join axis with financial info)\n",
    "* Sector (inferred from RMI data as a source rather than ISIC)\n",
    "* Production (in whatever units -- we need units in either metadata or a column or as part of the data element iselft)\n",
    "* S1, S2, S3 emissions (in megametric tons CO2e)\n",
    "* S1, S2, S3 emissions intensity (emissions / production, in whatever units this resolves to)\n",
    "\n",
    "We currently focus exclusively on data from 2019 as our base year\n",
    "\n",
    "Note that RMI data is S1 (own generation) and S3 (purchased generation); we use zero as S2 value"
   ]
  },
  {
   "cell_type": "code",
   "execution_count": null,
   "id": "002fc96e-c776-4707-b67b-ea82dfd55894",
   "metadata": {},
   "outputs": [],
   "source": [
    "# 'sector', 's1_co2', 's2_co2', 's3_co2', 's1_ei', 's2_ei', 's3_ei', 'production'\n",
    "rmi_scopes = [\"s1\", \"s2\", \"s3\"]\n",
    "\n",
    "emissions_sql = f\"\"\"\n",
    "select DISTINCT P.company_name, P.company_lei, P.company_id,\n",
    "       'Electricity Utilities' as sector, year(E.year) as year,\n",
    "       sum(if(E.owned_energy_source, E.emissions_co2 + (265/1000000.0)*coalesce(E.emissions_nox, 0), 0)) as ghg_s1,\n",
    "       0 as ghg_s2,\n",
    "       sum(if(E.owned_energy_source, 0, E.emissions_co2 + (265/1000000.0)*coalesce(E.emissions_nox, 0))) as ghg_s3,\n",
    "       sum(if(E.owned_energy_source, E.emissions_co2 + (265/1000000.0)*coalesce(E.emissions_nox, 0), 0)) / sum(if(E.owned_energy_source, E.net_generation, 0)) as ei_s1,\n",
    "       0 as ei_s2,\n",
    "       sum(if(E.owned_energy_source, 0, E.emissions_co2 + (265/1000000.0)*coalesce(E.emissions_nox, 0))) / sum(if(E.owned_energy_source, 0, E.net_generation)) as ei_s3,\n",
    "       sum(E.net_generation) as production\n",
    "from {ingest_schema}.portfolio_universe as P\n",
    "     join {rmi_schema}.{rmi_prefix}utility_information_2023 as U on U.parent_lei=P.company_lei\n",
    "     join {rmi_schema}.{rmi_prefix}operations_emissions_by_fuel as E on U.utility_id_eia=E.utility_id_eia\n",
    "where year(E.year)>=2014 and year(E.year)<2023\n",
    "   and P.company_lei!='529900L26LIS2V8PWM23' -- American States Water has negative/zero production values that mess things up\n",
    "-- and E.owned_or_total='owned'\n",
    "group by P.company_name, P.company_lei, P.company_id, 3, year(E.year)\n",
    "order by P.company_name\n",
    "\"\"\""
   ]
  },
  {
   "cell_type": "markdown",
   "id": "d49375dc-c7a2-4222-bf30-88432694dbfe",
   "metadata": {},
   "source": [
    "### `financial_df` contains all the base year (2019) financial, production, and emissions data\n",
    "\n",
    "For now our benchmark data covers only North America and Europe.  Over time, we expect additional regions (possibly on a per-sector basis)."
   ]
  },
  {
   "cell_type": "code",
   "execution_count": null,
   "id": "4783db2a-2200-482d-9545-2cc2066a7bda",
   "metadata": {},
   "outputs": [],
   "source": [
    "financial_df = pd.read_sql(\n",
    "    base_financial_sql, engine, index_col=[\"company_name\", \"company_lei\", \"company_id\", \"sector\"]\n",
    ").convert_dtypes()\n",
    "financial_df.region = financial_df.region.apply(\n",
    "    lambda x: x if x in [\"Asia\", \"Europe\", \"North America\"] else \"Global\"\n",
    ").astype(\"string\")\n",
    "financial_df"
   ]
  },
  {
   "cell_type": "markdown",
   "id": "c3d5d491-c1f6-4848-b68a-5e947c6b5271",
   "metadata": {},
   "source": [
    "### `emissions_df` contains all the base year (2019) production and emissions data"
   ]
  },
  {
   "cell_type": "code",
   "execution_count": null,
   "id": "62db0e4f-e3f6-49d7-af89-b4872be02127",
   "metadata": {},
   "outputs": [],
   "source": [
    "rmi_emissions_df = pd.read_sql(\n",
    "    emissions_sql, engine, index_col=[\"company_name\", \"company_lei\", \"company_id\", \"sector\"]\n",
    ").convert_dtypes()\n",
    "for scope in rmi_scopes:\n",
    "    rmi_emissions_df[\"ghg_\" + scope] = rmi_emissions_df[\"ghg_\" + scope].astype(\"pint[Mt CO2]\")\n",
    "    rmi_emissions_df[\"ei_\" + scope] = rmi_emissions_df[\"ei_\" + scope].astype(\"pint[Mt CO2/TWh]\")\n",
    "rmi_emissions_df[\"production\"] = rmi_emissions_df[\"production\"].astype(\"pint[TWh]\")\n",
    "rmi_emissions_df[\"ghg_s1s2\"] = rmi_emissions_df[\"ghg_s1\"] + rmi_emissions_df[\"ghg_s2\"]\n",
    "rmi_emissions_df[\"ei_s1s2\"] = rmi_emissions_df[\"ghg_s1s2\"] / rmi_emissions_df[\"production\"]\n",
    "rmi_emissions_df[\"ghg_s1s2s3\"] = rmi_emissions_df[\"ghg_s1s2\"] + rmi_emissions_df[\"ghg_s3\"]\n",
    "rmi_emissions_df[\"ei_s1s2s3\"] = rmi_emissions_df[\"ghg_s1s2s3\"] / rmi_emissions_df[\"production\"]\n",
    "template_rmi_df = rmi_emissions_df.pivot(index=None, columns=\"year\")\n",
    "\n",
    "# Put column names into YYYY_metric order (Multi-index has this order inverted)\n",
    "template_rmi_df.columns = template_rmi_df.columns.map(lambda x: f\"{x[1]}_{x[0]}\")\n",
    "template_rmi_df = template_rmi_df.loc[:, ~template_rmi_df.columns.str.contains(\"_ei_\")]\n",
    "display(template_rmi_df)"
   ]
  },
  {
   "cell_type": "markdown",
   "id": "e7565476-cb93-471b-9c20-9d651cf0b220",
   "metadata": {},
   "source": [
    "### Collect emissions/production info from the MDT Steel data\n",
    "* Company Name, LEI, ISIN (join axis with financial info)\n",
    "* Sector (inferred as Steel from source)\n",
    "* Production (in whatever units -- we need units in either metadata or a column or as part of the data element itself)\n",
    "* S1, S2, S3 emissions (in whatever units of CO2e)\n",
    "* S1, S2, S3 emissions intensity (emissions / production, in whatever units this resolves to)\n",
    "\n",
    "If a company has no emissions or production information, we don't carry it forward as data (even if it does have revenue, earnings, etc.)"
   ]
  },
  {
   "cell_type": "code",
   "execution_count": null,
   "id": "a1d5f051-a564-4014-b01a-635eac0fab29",
   "metadata": {},
   "outputs": [],
   "source": [
    "steel_wb = pd.read_excel(\n",
    "    os.environ.get(\"PWD\") + f\"/itr-data-pipeline/data/external/mdt-steel-demo.xlsx\", sheet_name=None\n",
    ")\n",
    "steel_production = steel_wb[\"Steel Fe_tons\"].dropna(axis=1, how=\"all\")\n",
    "steel_production.set_index(steel_production.columns[0:3].to_list(), inplace=True)\n",
    "steel_production = steel_production.dropna(axis=0, how=\"all\")\n",
    "steel_production = steel_production.astype(\"pint[t Steel]\")\n",
    "steel_co2 = {}\n",
    "steel_ei = {}\n",
    "for scope in rmi_scopes:\n",
    "    steel_co2[scope] = steel_wb[f\"Steel CO2e {scope.upper()}\"].dropna(axis=1, how=\"all\")\n",
    "    steel_co2[scope].set_index(steel_co2[scope].columns[0:3].to_list(), inplace=True)\n",
    "    steel_co2[scope] = steel_co2[scope].dropna(axis=0, how=\"all\")\n",
    "    steel_co2[scope] = steel_co2[scope].astype(\"pint[t CO2]\")\n",
    "    steel_ei[scope] = (steel_co2[scope] / steel_production).dropna(how=\"all\")"
   ]
  },
  {
   "cell_type": "code",
   "execution_count": null,
   "id": "b08e6f4b-fd0f-456d-9a66-28865e589db4",
   "metadata": {},
   "outputs": [],
   "source": [
    "def rename_column_emissions(df, scope):\n",
    "    df = df.loc[:, 2014:2020]\n",
    "    df.columns = df.columns.map(lambda x: f\"{x}_ghg_{scope}\")\n",
    "    return df\n",
    "\n",
    "\n",
    "template_steel_co2 = pd.concat([rename_column_emissions(steel_co2[scope], scope) for scope in rmi_scopes], axis=1)\n",
    "for year in range(2014, 2021):\n",
    "    template_steel_co2.insert(\n",
    "        len(template_steel_co2.columns) - 7, f\"{year}_ghg_s1s2\", steel_co2[\"s1\"][year] + steel_co2[\"s2\"][year]\n",
    "    )\n",
    "for year in range(2014, 2021):\n",
    "    template_steel_co2.insert(\n",
    "        len(template_steel_co2.columns),\n",
    "        f\"{year}_ghg_s1s2s3\",\n",
    "        steel_co2[\"s1\"][year] + steel_co2[\"s2\"][year] + steel_co2[\"s3\"][year],\n",
    "    )\n",
    "\n",
    "template_steel_co2.columns"
   ]
  },
  {
   "cell_type": "code",
   "execution_count": null,
   "id": "47e0fc37-5ebc-4e83-b8ff-92f6283a47e0",
   "metadata": {},
   "outputs": [],
   "source": [
    "template_steel_production = steel_production.loc[:, 2014:2020]\n",
    "template_steel_production.columns = template_steel_production.columns.map(lambda x: f\"{x}_production\")\n",
    "template_steel_production"
   ]
  },
  {
   "cell_type": "code",
   "execution_count": null,
   "id": "970b303c-b798-46f9-b92e-8c77cdb38032",
   "metadata": {},
   "outputs": [],
   "source": [
    "template_steel_df = pd.concat([template_steel_co2, template_steel_production], axis=1)\n",
    "template_steel_df.insert(0, \"sector\", \"Steel\")\n",
    "template_steel_df.set_index([\"sector\"], append=True, inplace=True)\n",
    "template_steel_df.insert(0, \"emissions_metric\", \"t CO2\")\n",
    "template_steel_df.insert(1, \"production_metric\", \"t Steel\")\n",
    "template_steel_df"
   ]
  },
  {
   "cell_type": "code",
   "execution_count": null,
   "id": "2c37a67f-d119-4257-83ee-795bccdee7e0",
   "metadata": {},
   "outputs": [],
   "source": [
    "pd.options.display.max_rows = 99\n",
    "pd.options.display.max_columns = 49\n",
    "template_df = (\n",
    "    pd.concat([financial_df, pd.concat([template_steel_df, template_rmi_df])], axis=1)\n",
    "    .dropna(thresh=16)\n",
    "    .drop(columns=[\"company_cash_equivalents\", \"company_debt\"], axis=1)\n",
    ")\n",
    "template_df.loc[pd.IndexSlice[:, :, :, [\"Electricity Utilities\"]], [\"emissions_metric\", \"production_metric\"]] = [\n",
    "    \"Mt CO2\",\n",
    "    \"TWh\",\n",
    "]\n",
    "template_df = template_df.reset_index()\n",
    "cols = template_df.columns.tolist()"
   ]
  },
  {
   "cell_type": "code",
   "execution_count": null,
   "id": "fb643726-8379-498d-84bc-b3efb59d467f",
   "metadata": {},
   "outputs": [],
   "source": [
    "template_df.columns"
   ]
  },
  {
   "cell_type": "code",
   "execution_count": null,
   "id": "7f98bb50-38b7-4b86-974d-d31925149c89",
   "metadata": {},
   "outputs": [],
   "source": [
    "cols = cols[:3] + cols[4:6] + [cols[3]] + cols[6:]\n",
    "template_df = template_df[cols]\n",
    "for col in cols:\n",
    "    if col.startswith(\"2021_\"):\n",
    "        col_index = template_df.columns.get_loc(col)\n",
    "        for year in [2022]:\n",
    "            newcol = col.replace(\"2021\", str(year))\n",
    "            template_df.insert(col_index + 1, newcol, np.nan)\n",
    "            if \"_ghg_\" in newcol:\n",
    "                template_df.loc[:, newcol] = template_df[\"emissions_metric\"].map(lambda x: Q_(np.nan, x))\n",
    "            else:\n",
    "                template_df.loc[:, newcol] = template_df[\"production_metric\"].map(lambda x: Q_(np.nan, x))\n",
    "display(template_df.sample(15))\n",
    "pd.reset_option(\"display.max_rows\")\n",
    "pd.reset_option(\"display.max_columns\")"
   ]
  },
  {
   "cell_type": "code",
   "execution_count": null,
   "id": "c3db17ae-31e9-4275-8580-6632c316ae2e",
   "metadata": {},
   "outputs": [],
   "source": [
    "with pd.ExcelWriter(\"../data/processed/template-20220415-output.xlsx\", datetime_format=\"YYYY\") as writer:\n",
    "    template_df.to_excel(writer, sheet_name=\"ITR input data\", index=False)"
   ]
  },
  {
   "cell_type": "markdown",
   "id": "5f1924b1-8ed6-4f65-acd5-328a17a038c0",
   "metadata": {},
   "source": [
    "### Load emissions target data\n",
    "\n",
    "The RMI power plant data is valid for Scope 1 emissions only."
   ]
  },
  {
   "cell_type": "code",
   "execution_count": null,
   "id": "22a1bc84-bd10-414f-8a67-dd01ba52c546",
   "metadata": {
    "tags": []
   },
   "outputs": [],
   "source": [
    "osc._do_sql(f\"describe {rmi_schema}.{rmi_prefix}emissions_targets\", engine, verbose=False)"
   ]
  },
  {
   "cell_type": "markdown",
   "id": "cfb9880c-0b6e-4c5f-8683-d8e5b1567ca3",
   "metadata": {},
   "source": [
    "### `targets_df` has all the historical and target emissions data\n",
    "### `trajectory_df` is derived from historical target emissions data\n",
    "\n",
    "We also preserve RMI's 1.5 degree target info, which can be presented as a trajectory to compare/contrast corporate targets with RMI's best policy recommendations\n",
    "* rtg_df is the RMI contribution to targets_df (RMI data frame)\n",
    "* mtg_df is the Steel contribution to targets_df (MDT data frame)\n",
    "\n",
    "We do not consider targets/emissions for WIRES ONLY utilities (who have no generation of their own).\n",
    "\n",
    "We set the LEI information based on our hand-curated GLEIF table, not the LEI info in the RMI and SEC data tables"
   ]
  },
  {
   "cell_type": "code",
   "execution_count": null,
   "id": "f7a75411-9469-41b9-a7bf-d539ee60cee0",
   "metadata": {},
   "outputs": [],
   "source": [
    "# Emissions targets are now segregated by states, but we care more about rolling them up to the company level.\n",
    "# Therefore we sum absolutes (emissions and generation) and re-compute intensities based on the aggregated amounts.\n",
    "\n",
    "rtg_df = pd.read_sql(\n",
    "    f\"\"\"\n",
    "select ET.parent_name as company_name, ET.utility_name, 'Electricity Utilities' as sector, year(ET.year) as year,\n",
    "       target_scope,\n",
    "       sum(co2_target) as co2_target,\n",
    "       sum(co2_historical) as co2_historical,\n",
    "       sum(co2_target_all_years) as co2_target_all_years,\n",
    "       sum(co2_1point5C) as co2_1point5C,\n",
    "       sum(generation_historical) as production_historical,\n",
    "       sum(generation_projected) as production_projected,\n",
    "       sum(generation_1point5C) as production_1point5C\n",
    "from {rmi_schema}.{rmi_prefix}emissions_targets ET\n",
    "     join (select utility_name, year\n",
    "           from {rmi_schema}.{rmi_prefix}operations_emissions_by_tech\n",
    "           where technology_eia!='Batteries' and technology_eia!='Hydroelectric Pumped Storage'\n",
    "           group by utility_name, year) EM\n",
    "           on ET.utility_name=EM.utility_name and ((year(ET.year)>2020 and year(EM.year)=2020) or (ET.year=EM.year) or ((year(ET.year)<2005 and year(EM.year)=2005) ))\n",
    "     -- join (select parent_name, parent_lei from {rmi_schema}.{rmi_prefix}utility_information_2023 group by parent_name, parent_lei) U\n",
    "     --       on ET.parent_name=U.parent_name\n",
    "     -- join {dera_schema}.financials_by_lei as F on F.lei=U.parent_lei\n",
    "where ET.target_type='All'\n",
    "group by ET.parent_name, ET.utility_name, year(ET.year), ET.target_scope\n",
    "order by company_name, year\n",
    "\"\"\",\n",
    "    engine,\n",
    ")  # parse_dates=['year']\n",
    "\n",
    "\n",
    "# We set the LEI information based on our hand-curated GLEIF table, not the LEI info in the RMI and SEC data tables\n",
    "rtg_df.insert(1, \"company_lei\", rtg_df.company_name.str.upper().map(gleif_match))\n",
    "rtg_df.insert(2, \"company_id\", rtg_df.company_lei.map(rmi_lei_dict))\n",
    "rtg_df.loc[rtg_df.production_historical > 0, \"ei_s1_historical\"] = (\n",
    "    rtg_df.co2_s1_historical / rtg_df.production_historical\n",
    ")\n",
    "rtg_df[\"production_general\"] = rtg_df[[\"production_historical\", \"production_projected\"]].bfill(axis=1).iloc[:, 0]\n",
    "rtg_df.loc[rtg_df.production_general > 0, \"ei_s1_target\"] = rtg_df.co2_s1_target / rtg_df.production_general\n",
    "rtg_df.loc[rtg_df.production_general > 0, \"ei_s1_target_all_years\"] = (\n",
    "    rtg_df.co2_s1_target_all_years / rtg_df.production_general\n",
    ")\n",
    "rtg_df.loc[rtg_df.production_1point5C > 0, \"ei_s1_1point5C\"] = rtg_df.co2_s1_1point5C / rtg_df.production_1point5C\n",
    "rtg_df.drop(columns=\"production_general\", inplace=True)\n",
    "rtg_df = rtg_df[\n",
    "    rtg_df.company_lei != \"529900L26LIS2V8PWM23\"\n",
    "]  # American States Water has negative/zero production values that mess things up\n",
    "\n",
    "rtg_df.loc[rtg_df.production_historical.gt(0), \"ei_historical\"] = rtg_df.co2_historical / rtg_df.production_historical\n",
    "rtg_df[\"production_general\"] = rtg_df[[\"production_historical\", \"production_projected\"]].bfill(axis=1).iloc[:, 0]\n",
    "rtg_df.loc[rtg_df.production_general.gt(0), \"ei_target\"] = rtg_df.co2_target / rtg_df.production_general\n",
    "rtg_df.loc[rtg_df.production_general.gt(0), \"ei_target_all_years\"] = (\n",
    "    rtg_df.co2_target_all_years / rtg_df.production_general\n",
    ")\n",
    "rtg_df.loc[rtg_df.production_1point5C.gt(0), \"ei_1point5C\"] = rtg_df.co2_1point5C / rtg_df.production_1point5C\n",
    "rtg_df.drop(columns=\"production_general\", inplace=True)"
   ]
  },
  {
   "cell_type": "code",
   "execution_count": null,
   "id": "7c4dedf4-374d-4d63-9734-b4fa2b8d0424",
   "metadata": {},
   "outputs": [],
   "source": [
    "for col in rtg_df.columns:\n",
    "    if col.startswith(\"co2_\"):\n",
    "        rtg_df[col] = rtg_df[col].astype(\"pint[Mt CO2]\")\n",
    "    elif col.startswith(\"production_\"):\n",
    "        rtg_df[col] = rtg_df[col].astype(\"pint[TWh]\")\n",
    "    elif col.startswith(\"ei_\"):\n",
    "        rtg_df[col] = rtg_df[col].astype(\"pint[Mt CO2/TWh]\")\n",
    "rtg_df = rtg_df.convert_dtypes()\n",
    "print(rtg_df.dtypes)\n",
    "print(f\"len(rtg_df) = {len(rtg_df)}\")"
   ]
  },
  {
   "cell_type": "markdown",
   "id": "d4f1e6b9-ca88-4505-8c72-a714eb6546c3",
   "metadata": {},
   "source": [
    "The RMI targets only cover S1 and S3, so we don't need to compute the non-existent S2 (until they do provide such)."
   ]
  },
  {
   "cell_type": "code",
   "execution_count": null,
   "id": "cee1b08f-f306-483d-8831-4a5ae64b3734",
   "metadata": {},
   "outputs": [],
   "source": [
    "def compute_sums_and_wavg(x):\n",
    "    zero_Mt_CO2 = Q_(0.0, \"Mt CO2\")\n",
    "    d = {\n",
    "        \"co2_s1_by_year\": x[x.target_scope == \"Scope 1\"][\"co2_target_all_years\"].sum(),\n",
    "        \"co2_s2_by_year\": zero_Mt_CO2,\n",
    "        \"co2_s3_by_year\": x[x.target_scope == \"Scope 3\"][\"co2_target_all_years\"].sum(),\n",
    "        \"production_by_year\": x[[\"production_historical\", \"production_projected\"]].bfill(axis=1).iloc[:, 0].sum(),\n",
    "    }\n",
    "    return pd.Series(d, index=[\"co2_s1_by_year\", \"co2_s2_by_year\", \"co2_s3_by_year\", \"production_by_year\"])\n",
    "\n",
    "\n",
    "with warnings.catch_warnings():\n",
    "    warnings.simplefilter(\"ignore\")\n",
    "\n",
    "    rmi_targets_df = (\n",
    "        rtg_df[rtg_df.year >= 2014]\n",
    "        .groupby([\"company_name\", \"company_lei\", \"company_id\", \"sector\", \"year\"])  # grouping automagically sets index\n",
    "        .apply(compute_sums_and_wavg)\n",
    "        .sort_values([\"company_name\", \"year\"], ascending=[True, True])\n",
    "    )\n",
    "m = rmi_targets_df.production_by_year != 0"
   ]
  },
  {
   "cell_type": "code",
   "execution_count": null,
   "id": "4cf70abe-db00-46be-bac2-f6249782b710",
   "metadata": {},
   "outputs": [],
   "source": [
    "rmi_targets_df.loc[~m, \"ei_s1_by_year\"] = m.map(lambda x: Q_(np.nan, \"Mt CO2/TWh\"))\n",
    "rmi_targets_df.loc[~m, \"ei_s2_by_year\"] = m.map(lambda x: Q_(np.nan, \"Mt CO2/TWh\"))\n",
    "rmi_targets_df.loc[~m, \"ei_s1s2_by_year\"] = m.map(lambda x: Q_(np.nan, \"Mt CO2/TWh\"))\n",
    "rmi_targets_df.loc[~m, \"ei_s3_by_year\"] = m.map(lambda x: Q_(np.nan, \"Mt CO2/TWh\"))\n",
    "rmi_targets_df.loc[~m, \"ei_s1s2s3_by_year\"] = m.map(lambda x: Q_(np.nan, \"Mt CO2/TWh\"))\n",
    "rmi_targets_df.loc[m, \"ei_s1_by_year\"] = rmi_targets_df.co2_s1_by_year / rmi_targets_df.production_by_year\n",
    "rmi_targets_df.loc[m, \"ei_s2_by_year\"] = rmi_targets_df.co2_s2_by_year / rmi_targets_df.production_by_year\n",
    "rmi_targets_df.loc[m, \"ei_s1s2_by_year\"] = (\n",
    "    rmi_targets_df.co2_s1_by_year + rmi_targets_df.co2_s2_by_year\n",
    ") / rmi_targets_df.production_by_year\n",
    "rmi_targets_df.loc[m, \"ei_s3_by_year\"] = rmi_targets_df.co2_s3_by_year / rmi_targets_df.production_by_year\n",
    "rmi_targets_df.loc[m, \"ei_s1s2s3_by_year\"] = (\n",
    "    rmi_targets_df.co2_s1_by_year + rmi_targets_df.co2_s2_by_year + rmi_targets_df.co2_s3_by_year\n",
    ") / rmi_targets_df.production_by_year"
   ]
  },
  {
   "cell_type": "code",
   "execution_count": null,
   "id": "ef0064fd-3dff-42e1-8f4e-447f65e468dc",
   "metadata": {},
   "outputs": [],
   "source": [
    "# Exelon doesn't own any generation, so it has no Scope 1 emissions\n",
    "\n",
    "rmi_targets_df.loc[\"Exelon Corp.\", :, :, :]"
   ]
  },
  {
   "cell_type": "code",
   "execution_count": null,
   "id": "44e99a60-a9c2-4e78-9eda-a91b79e73db8",
   "metadata": {},
   "outputs": [],
   "source": [
    "steel_production.iloc[0:2]"
   ]
  },
  {
   "cell_type": "code",
   "execution_count": null,
   "id": "5e5dcd8a-6b87-45c7-ac8d-ab094a391f57",
   "metadata": {},
   "outputs": [],
   "source": [
    "mdt_production = (\n",
    "    steel_production.melt(var_name=\"year\", value_name=\"production_by_year\", ignore_index=False)\n",
    "    .dropna()\n",
    "    .set_index([\"year\"], append=True)\n",
    ")\n",
    "# display(mdt_production)\n",
    "mdt_co2 = pd.concat(\n",
    "    [\n",
    "        steel_co2[scope]\n",
    "        .melt(var_name=\"year\", value_name=f\"co2_{scope}_by_year\", ignore_index=False)\n",
    "        .dropna()\n",
    "        .set_index([\"year\"], append=True)\n",
    "        for scope in rmi_scopes\n",
    "    ],\n",
    "    join=\"outer\",\n",
    "    axis=1,\n",
    ")\n",
    "# display(mdt_co2)\n",
    "mdt_ei = pd.concat(\n",
    "    [\n",
    "        steel_ei[scope]\n",
    "        .melt(var_name=\"year\", value_name=f\"ei_{scope}_by_year\", ignore_index=False)\n",
    "        .dropna()\n",
    "        .set_index([\"year\"], append=True)\n",
    "        for scope in rmi_scopes\n",
    "    ],\n",
    "    join=\"outer\",\n",
    "    axis=1,\n",
    ")\n",
    "# display(mdt_ei)"
   ]
  },
  {
   "cell_type": "code",
   "execution_count": null,
   "id": "de47de41-af79-4e56-b2f1-6715c23af746",
   "metadata": {},
   "outputs": [],
   "source": [
    "steel_targets_df = pd.concat([mdt_production, mdt_co2, mdt_ei], join=\"outer\", axis=1)\n",
    "steel_targets_df.insert(2, \"sector\", \"Steel\")\n",
    "steel_targets_df.set_index([\"sector\"], append=True, inplace=True)\n",
    "steel_targets_df = steel_targets_df.reorder_levels(\n",
    "    order=[\"company_name\", \"company_lei\", \"company_id\", \"sector\", \"year\"]\n",
    ")\n",
    "steel_targets_df[\"ei_s1s2_by_year\"] = (\n",
    "    steel_targets_df.co2_s1_by_year + steel_targets_df.co2_s2_by_year\n",
    ") / steel_targets_df.production_by_year\n",
    "steel_targets_df[\"ei_s1s2s3_by_year\"] = (\n",
    "    steel_targets_df.co2_s1_by_year + steel_targets_df.co2_s2_by_year + steel_targets_df.co2_s3_by_year\n",
    ") / steel_targets_df.production_by_year\n",
    "targets_df = pd.concat([rmi_targets_df, steel_targets_df])\n",
    "emissions_df = targets_df[[\"co2_s1_by_year\", \"co2_s2_by_year\", \"co2_s3_by_year\"]]\n",
    "targets_df = targets_df[\n",
    "    [\"production_by_year\", \"ei_s1_by_year\", \"ei_s2_by_year\", \"ei_s1s2_by_year\", \"ei_s3_by_year\", \"ei_s1s2s3_by_year\"]\n",
    "]"
   ]
  },
  {
   "cell_type": "code",
   "execution_count": null,
   "id": "fc6307d1-105a-483a-81c0-7e24d7a2ddf3",
   "metadata": {},
   "outputs": [],
   "source": [
    "targets_df"
   ]
  },
  {
   "cell_type": "code",
   "execution_count": null,
   "id": "4257a42b-c94f-4685-a4ed-43114f0246ec",
   "metadata": {},
   "outputs": [],
   "source": [
    "targets_df.loc[\"WORTHINGTON INDUSTRIES INC\"]"
   ]
  },
  {
   "cell_type": "code",
   "execution_count": null,
   "id": "e50a8945-0dee-4ff8-a4a4-82ed66c34dac",
   "metadata": {},
   "outputs": [],
   "source": [
    "targets_df.unstack(level=\"year\")[\"ei_s1_by_year\"].sample(15).sort_index(level=[\"company_name\"], ascending=[1])"
   ]
  },
  {
   "cell_type": "code",
   "execution_count": null,
   "id": "df546993-6da1-457c-8399-699faa277f00",
   "metadata": {},
   "outputs": [],
   "source": [
    "traj_df = {}\n",
    "traj_mdf = {}\n",
    "traj_udf = targets_df.unstack(level=\"year\")\n",
    "for scope in [s.lower() for s in EScope.get_scopes()]:\n",
    "    # We start by copying the target data, but we will use only the historic and replace the projection\n",
    "    traj_df[scope] = traj_udf[f\"ei_{scope}_by_year\"].copy()\n",
    "    # By calculating 2014-2019, we miss the anomoly of 2020\n",
    "    historic_progress = (traj_df[scope][2019] / traj_df[scope][2014]).dropna().map(lambda x: x.m)\n",
    "\n",
    "    # There are wierd artifacts where energy storage systems have negative generation, so treat their progress as zero\n",
    "    # If intensity is actually growing, cap trajectory at 1 (no progress).\n",
    "    annualized_progress = historic_progress.where(historic_progress >= 0, 0).where(historic_progress <= 1, 1) ** (\n",
    "        1 / (2019 - 2014)\n",
    "    )\n",
    "\n",
    "    for year in range(2020, 2051):\n",
    "        traj_df[scope].loc[:, year] = traj_df[scope][2020] * annualized_progress ** (year - 2020)\n",
    "    traj_mdf[scope] = (\n",
    "        traj_df[scope]\n",
    "        .melt(var_name=\"year\", value_name=f\"ei_{scope}_by_year\", ignore_index=False)\n",
    "        .set_index(\"year\", append=True)\n",
    "        .convert_dtypes()\n",
    "    )\n",
    "\n",
    "traj_mdf = pd.concat([*traj_mdf.values()], join=\"outer\", axis=1)\n",
    "traj_mdf.loc[targets_df.index.intersection(traj_mdf.index), \"production_by_year\"] = targets_df[\"production_by_year\"]\n",
    "display(traj_mdf.loc[\"CLEVELAND-CLIFFS INC\"])"
   ]
  },
  {
   "cell_type": "code",
   "execution_count": null,
   "id": "cc92bba6-fd9a-427f-9e00-7c543a8f422b",
   "metadata": {},
   "outputs": [],
   "source": [
    "traj_mdf[[\"ei_s1_by_year\", \"ei_s2_by_year\", \"ei_s1s2_by_year\", \"ei_s3_by_year\", \"ei_s1s2s3_by_year\"]]"
   ]
  },
  {
   "cell_type": "code",
   "execution_count": null,
   "id": "bd1e206c-9269-4b35-a645-d85060fbacc5",
   "metadata": {},
   "outputs": [],
   "source": [
    "# df = traj_mdf[['ei_s1_by_year','ei_s2_by_year','ei_s1s2_by_year','ei_s3_by_year','ei_s1s2s2_by_year']].multiply(traj_mdf['production_by_year'], axis='index')\n",
    "# df.rename(columns={f\"ei_{scope}_by_year\":f\"co2_{scope}_by_year\" for scope in scopes}, inplace=True)\n",
    "trajectories_df = traj_mdf\n",
    "# trajectories_df = pd.concat([df, traj_mdf], axis=1)\n",
    "trajectories_df = trajectories_df[[trajectories_df.columns[-1]] + list(trajectories_df.columns[0:-1])]\n",
    "trajectories_df"
   ]
  },
  {
   "cell_type": "code",
   "execution_count": null,
   "id": "49d6622e-72a8-408b-828a-87eff268ddfe",
   "metadata": {},
   "outputs": [],
   "source": [
    "targets_df.sort_index(\n",
    "    level=[\"company_name\", \"company_lei\", \"company_id\", \"sector\", \"year\"], ascending=[1, 1, 1, 1, 1], inplace=True\n",
    ")\n",
    "trajectories_df.sort_index(\n",
    "    level=[\"company_name\", \"company_lei\", \"company_id\", \"sector\", \"year\"], ascending=[1, 1, 1, 1, 1], inplace=True\n",
    ")"
   ]
  },
  {
   "cell_type": "code",
   "execution_count": null,
   "id": "d3b50cbf-c720-4a11-bd8b-502626a4f6e6",
   "metadata": {},
   "outputs": [],
   "source": [
    "targets_df.loc[(slice(None), slice(None), slice(None), slice(None), slice(2019, 2024))]"
   ]
  },
  {
   "cell_type": "code",
   "execution_count": null,
   "id": "73581aa9-1fcd-41d1-94a3-95fa960e4ffa",
   "metadata": {},
   "outputs": [],
   "source": [
    "trajectories_df.loc[(slice(None), slice(None), slice(None), slice(None), slice(2019, 2024))]"
   ]
  },
  {
   "cell_type": "markdown",
   "id": "be2a14b5-17a1-4f5e-a7b7-9b01ea40fd71",
   "metadata": {},
   "source": [
    "### TODO: Implement Units\n",
    "\n",
    "Intensity and Production data need Units to distinguish TWh of generation vs. Tons of Steel production\n",
    "\n",
    "Company data is converted to USD by SEC_DERA ingestion for now, but should support any currencies in the future"
   ]
  },
  {
   "cell_type": "code",
   "execution_count": null,
   "id": "5268e73e-0b15-4e0f-b888-130655eca421",
   "metadata": {},
   "outputs": [],
   "source": [
    "# If DF_COL contains Pint quantities (because it is a PintArray or an array of Pint Quantities),\n",
    "# return a two-column dataframe of magnitudes and units.\n",
    "# If DF_COL contains no Pint quanities, return it unchanged.\n",
    "\n",
    "\n",
    "def dequantify_column(df_col: pd.Series) -> pd.DataFrame:\n",
    "    if type(df_col.values) == PintArray:\n",
    "        return pd.DataFrame(\n",
    "            {df_col.name: df_col.values.quantity.m, df_col.name + \"_units\": str(df_col.values.dtype.units)},\n",
    "            index=df_col.index,\n",
    "        )\n",
    "    elif df_col.size == 0:\n",
    "        return df_col\n",
    "    elif df_col.map(lambda x: isinstance(x, Quantity)).any():\n",
    "        values = df_col.map(lambda x: (x.m, x.u) if isinstance(x, Quantity) else x)\n",
    "        return pd.DataFrame(\n",
    "            {\n",
    "                df_col.name: df_col.map(lambda x: x.m if isinstance(x, Quantity) else x),\n",
    "                df_col.name + \"_units\": df_col.map(lambda x: str(x.u) if isinstance(x, Quantity) else None),\n",
    "            },\n",
    "            index=df_col.index,\n",
    "        )\n",
    "    else:\n",
    "        return df_col\n",
    "\n",
    "\n",
    "# Rewrite dataframe DF so that columns containing Pint quantities are represented by a column for the Magnitude and column for the Units.\n",
    "# The magnitude column retains the original column name and the units column is renamed with a _units suffix.\n",
    "def dequantify_df(df: pd.DataFrame) -> pd.DataFrame:\n",
    "    return pd.concat([dequantify_column(df[col]) for col in df.columns], axis=1)"
   ]
  },
  {
   "cell_type": "code",
   "execution_count": null,
   "id": "3d18b584-de49-4344-932b-2302d3976794",
   "metadata": {},
   "outputs": [],
   "source": [
    "# Because this DF comes from reading a Trino table, and because columns must be unqiue, we don't have to enumerate to ensure we properly handle columns with duplicated names\n",
    "\n",
    "\n",
    "def requantify_df(df: pd.DataFrame) -> pd.DataFrame:\n",
    "    units_col = None\n",
    "    columns_reversed = reversed(df.columns)\n",
    "    for col in columns_reversed:\n",
    "        if col.endswith(\"_units\"):\n",
    "            if units_col:\n",
    "                # We expect _units column to follow a non-units column\n",
    "                raise ValueError\n",
    "            units_col = col\n",
    "            continue\n",
    "        if units_col:\n",
    "            if col + \"_units\" != units_col:\n",
    "                raise ValueError\n",
    "            if (df[units_col] == df[units_col][0]).all():\n",
    "                # Make a PintArray\n",
    "                new_col = PintArray(df[col], dtype=f\"pint[{ureg(df[units_col][0]).u}]\")\n",
    "            else:\n",
    "                # Make a pd.Series of Quantity in a way that does not throw UnitStrippedWarning\n",
    "                new_col = pd.Series(data=df[col], name=col) * pd.Series(\n",
    "                    data=df[units_col].map(lambda x: ureg(x).u), name=col\n",
    "                )\n",
    "            df = df.drop(columns=units_col)\n",
    "            df[col] = new_col\n",
    "            units_col = None\n",
    "    return df"
   ]
  },
  {
   "cell_type": "raw",
   "id": "44d46eba-ad28-4cd7-a9eb-f35d8b3cf7b4",
   "metadata": {},
   "source": [
    "schema_create = engine.execute(\n",
    "    f\"\"\"\n",
    "CREATE SCHEMA if not exists {ingest_catalog}.{demo_schema}\n",
    " AUTHORIZATION USER michaeltiemannosc\n",
    " WITH (\n",
    "     location = 's3a://osc-datacommons-s3-bucket-dev02/data/demo_dv.db'\n",
    " )\n",
    "\"\"\"\n",
    ")\n",
    "schema_create.fetchall()"
   ]
  },
  {
   "cell_type": "code",
   "execution_count": null,
   "id": "d4b1bc92-0c64-4a6b-b023-a33f982f9b00",
   "metadata": {},
   "outputs": [],
   "source": [
    "targets_to_sql = dequantify_df(targets_df.drop(columns=\"production_by_year\"))\n",
    "targets_to_sql.loc[:, :, :, \"Steel\"]"
   ]
  },
  {
   "cell_type": "code",
   "execution_count": null,
   "id": "339ecb29-7ac2-4302-b0dd-cab5bcaf5cc7",
   "metadata": {},
   "outputs": [],
   "source": [
    "financial_df[financial_df.company_market_cap.isnull()]"
   ]
  },
  {
   "cell_type": "code",
   "execution_count": null,
   "id": "24c04b18-b032-4249-b9b6-790d07b078f5",
   "metadata": {},
   "outputs": [],
   "source": [
    "tablenames = (\n",
    "    \"company_data\",\n",
    "    \"target_data\",\n",
    "    \"trajectory_data\",\n",
    "    \"production_data\",\n",
    "    \"emissions_data\",\n",
    ")\n",
    "\n",
    "dataframes = [\n",
    "    financial_df.loc[financial_df.index.intersection(targets_df.reset_index(\"year\").index)]\n",
    "    .reset_index()\n",
    "    .convert_dtypes(),\n",
    "    dequantify_df(targets_df.drop(columns=\"production_by_year\")).reset_index().convert_dtypes(),\n",
    "    dequantify_df(trajectories_df.drop(columns=\"production_by_year\")).reset_index().convert_dtypes(),\n",
    "    dequantify_df(targets_df[[\"production_by_year\"]]).reset_index().convert_dtypes(),\n",
    "    dequantify_df(emissions_df).reset_index().convert_dtypes(),\n",
    "]\n",
    "\n",
    "for ingest_table, df in zip(tablenames, dataframes):\n",
    "    drop_table = osc._do_sql(f\"drop table if exists {demo_schema}.{itr_prefix}{ingest_table}\", engine, verbose=True)\n",
    "\n",
    "    columnschema = osc.create_table_schema_pairs(df)\n",
    "\n",
    "    tabledef = f\"\"\"\n",
    "create table if not exists {ingest_catalog}.{demo_schema}.{itr_prefix}{ingest_table}(\n",
    "{columnschema}\n",
    ") with (\n",
    "    format = 'ORC',\n",
    "    partitioning = array['year']\n",
    ")\n",
    "\"\"\"\n",
    "\n",
    "    qres = osc._do_sql(tabledef, engine, verbose=True)\n",
    "    df.to_sql(\n",
    "        f\"{itr_prefix}{ingest_table}\",\n",
    "        con=engine,\n",
    "        schema=demo_schema,\n",
    "        if_exists=\"append\",\n",
    "        index=False,\n",
    "        method=osc.TrinoBatchInsert(batch_size=1200, verbose=True),\n",
    "    )"
   ]
  },
  {
   "cell_type": "code",
   "execution_count": null,
   "id": "e0f1c095-fc3d-4215-a758-02de67ea07b9",
   "metadata": {},
   "outputs": [],
   "source": [
    "targets_df.index.names"
   ]
  },
  {
   "cell_type": "code",
   "execution_count": null,
   "id": "371c9186-0822-4173-ba1c-548b20ddd038",
   "metadata": {},
   "outputs": [],
   "source": [
    "targets_df.columns"
   ]
  },
  {
   "cell_type": "code",
   "execution_count": null,
   "id": "e078aaff-e5f6-4f48-8858-c33dfb04f058",
   "metadata": {},
   "outputs": [],
   "source": [
    "stop!\n",
    "\n",
    "pdf = targets_df.pivot(index=['company_name', 'company_lei', 'company_id'], columns='year').reset_index()"
   ]
  },
  {
   "cell_type": "code",
   "execution_count": null,
   "id": "c5019f61-4e41-41f9-9f2d-e1b010db4cb3",
   "metadata": {},
   "outputs": [],
   "source": [
    "pdf"
   ]
  },
  {
   "cell_type": "code",
   "execution_count": null,
   "id": "884b7b57-bead-47d8-bb3b-be2be23a41e0",
   "metadata": {},
   "outputs": [],
   "source": [
    "stop!\n",
    "# pdf.insert(1, 'company_lei', pdf.company_name.str.upper().map(gleif_match))\n",
    "# pdf.insert(2, 'company_id', pdf.company_lei.map(rmi_lei_dict))\n",
    "# pdf = pdf.set_index(['company_name','company_lei', 'company_id'], drop=True)\n",
    "pdf.columns.names=[None,None]\n",
    "pdf"
   ]
  },
  {
   "cell_type": "code",
   "execution_count": null,
   "id": "300d70f4-73f5-43b1-9573-a2c23be80df9",
   "metadata": {},
   "outputs": [],
   "source": [
    "ei_s1_df = pd.concat(\n",
    "    [pdf.company_name, pdf.company_lei, pdf.company_id, pdf.ei_s1_target_by_year.reset_index()], axis=1\n",
    ").drop(\"index\", axis=1)\n",
    "ei_s1_df"
   ]
  },
  {
   "cell_type": "code",
   "execution_count": null,
   "id": "3766cf7b-98f7-4872-a78c-d0355d8e1600",
   "metadata": {},
   "outputs": [],
   "source": [
    "ei_s2_df = pd.concat(\n",
    "    [pdf.company_name, pdf.company_lei, pdf.company_id, pdf.ei_s2_target_by_year.reset_index()], axis=1\n",
    ").drop(\"index\", axis=1)\n",
    "ei_s2_df"
   ]
  },
  {
   "cell_type": "code",
   "execution_count": null,
   "id": "8a99dfab-b10e-43ac-82af-c3203a8f117a",
   "metadata": {},
   "outputs": [],
   "source": [
    "ei_s1_df.iloc[:, 3] = 2 * ei_s1_df.iloc[:, 4] - ei_s1_df.iloc[:, 5]\n",
    "ei_s1_df = ei_s1_df[ei_s1_df.company_id.notna()]\n",
    "ei_s1_df.insert(3, \"scope\", \"S1\")\n",
    "ei_s1_df.head(10)"
   ]
  },
  {
   "cell_type": "code",
   "execution_count": null,
   "id": "d4e00fa5-0d3b-4112-94b5-a50a837fed7e",
   "metadata": {},
   "outputs": [],
   "source": [
    "ei_s2_df.iloc[:, 3] = 2 * ei_s2_df.iloc[:, 4] - ei_s2_df.iloc[:, 5]\n",
    "ei_s2_df = ei_s2_df[ei_s2_df.company_id.notna()]\n",
    "ei_s2_df.insert(3, \"scope\", \"S2\")\n",
    "ei_s2_df.head(10)"
   ]
  },
  {
   "cell_type": "code",
   "execution_count": null,
   "id": "2f810b5b-a15d-4b6a-9e2f-d895f82c2cfa",
   "metadata": {},
   "outputs": [],
   "source": [
    "ei_s1_df.iloc[:, 3] = 2 * ei_s1_df.iloc[:, 4] - ei_s1_df.iloc[:, 5]\n",
    "ei_s1_df = co2_ei_df[co2_ei_df.company_id.notna()]\n",
    "ei_s1_df.insert(3, \"scope\", \"S1\")\n",
    "ei_s1_df.head(10)"
   ]
  },
  {
   "cell_type": "code",
   "execution_count": null,
   "id": "cc48b144-5b9d-4cd3-8bc7-f60c47984a59",
   "metadata": {},
   "outputs": [],
   "source": [
    "co2_df = pd.concat(\n",
    "    [pdf.company_name, pdf.company_lei, pdf.company_id, pdf.co2_target_by_year.reset_index()], axis=1\n",
    ").drop(\"index\", axis=1)\n",
    "co2_df = co2_df[co2_df.company_id.notna()]\n",
    "co2_df.insert(3, \"scope\", \"S1+S2\")\n",
    "co2_df.head()"
   ]
  },
  {
   "cell_type": "code",
   "execution_count": null,
   "id": "d9574ecc-1c18-4f03-919e-06d29654196f",
   "metadata": {},
   "outputs": [],
   "source": [
    "gen_df = pd.concat(\n",
    "    [pdf.company_name, pdf.company_lei, pdf.company_id, pdf.production_by_year.reset_index()], axis=1\n",
    ").drop(\"index\", axis=1)\n",
    "gen_df.iloc[:, 3] = 2 * gen_df.iloc[:, 4] - gen_df.iloc[:, 5]\n",
    "gen_df = gen_df[gen_df.company_id.notna()]\n",
    "gen_df.insert(3, \"production\", \"TWh\")\n",
    "gen_df.head()"
   ]
  },
  {
   "cell_type": "markdown",
   "id": "5d7885cd-a98f-4742-8449-f8f23abfc25b",
   "metadata": {},
   "source": [
    "with pd.ExcelWriter(\"rmi-20220307-output.xlsx\", datetime_format=\"YYYY\") as writer:\n",
    "    financial_df.to_excel(writer, sheet_name=\"fundamental_data\", index=False)\n",
    "    co2_ei_df.to_excel(writer, sheet_name=\"projected_ei_in_Wh\", index=False)\n",
    "    gen_df.to_excel(writer, sheet_name=\"projected_production\", index=False)\n",
    "    co2_df.to_excel(writer, sheet_name=\"projected_co2\", index=False)"
   ]
  },
  {
   "cell_type": "code",
   "execution_count": null,
   "id": "183d7309-d1c9-4666-bfe3-38a4e2908b9f",
   "metadata": {},
   "outputs": [],
   "source": [
    "portfolio_zero = portfolio_df.copy()\n",
    "portfolio_zero.target_probability = 0.0\n",
    "portfolio_one = portfolio_df.copy()\n",
    "portfolio_one.target_probability = 1.0\n",
    "\n",
    "portfolio_df.to_csv(\"rmi-20220307-portfolio.csv\", sep=\";\", index=False)"
   ]
  },
  {
   "cell_type": "raw",
   "id": "dd649372-0771-4233-b592-5c2df7e3e931",
   "metadata": {
    "tags": []
   },
   "source": [
    "financial_df.loc[financial_df.company_id.isin([\"US00130H1059\", \"US0255371017\", \"US6362744095\"])]"
   ]
  },
  {
   "cell_type": "raw",
   "id": "34d78d59-b632-4696-85b1-d3a62cb29aac",
   "metadata": {},
   "source": [
    "df = pd.read_sql(f\"\"\"\n",
    "select EPA.parent_company_name as epa_name, EPA.lei as epa_lei, year(EPA.reporting_year) as epa_year,\n",
    "       F.name as sec_name, F.lei as sec_lei, year(F.ddate) as sec_year,\n",
    "       sum(GHG.total_reported_direct_emissions*EPA.parent_co_percent_ownership/100) as co2e,\n",
    "       F.revenue_usd,\n",
    "       sum(GHG.total_reported_direct_emissions)/revenue_usd * 1000000 as co2_rev_ei,\n",
    "       NULL as Fe_tons, NULL as co2_Fe_ei\n",
    "from epa_ghgrp.parent_company EPA join epa_ghgrp.direct_emitters GHG on EPA.ghgrp_facility_id=GHG.facility_id and EPA.reporting_year=GHG.year\n",
    "     left join sec_dera.financials_by_lei F on year(F.ddate)=year(EPA.reporting_year)\n",
    "          and (F.lei=EPA.lei\n",
    "               or (substr(F.name,1,13)='ARCELORMITTAL' and substr(EPA.parent_company_name,1,13)='ARCELORMITTAL')\n",
    "               or (substr(F.name,1,5)='POSCO' and substr(EPA.parent_company_name,1,5)='POSCO')\n",
    "               or (substr(F.name,1,6)='GERDAU' and substr(EPA.parent_company_name,1,6)='GERDAU')\n",
    "               or (substr(F.name,1,8)='AK STEEL' and substr(EPA.parent_company_name,1,8)='AK STEEL')\n",
    "               -- or (F.name='BERKSHIRE HATHAWAY INC' and EPA.parent_company_name='PRECISION CASTPARTS CORP')\n",
    "               or (F.name='NUCOR CORP' and EPA.parent_company_name='YAMATO KOGYO (USA) CORP'))\n",
    "where ((EPA.facility_naics_code>='331110' and EPA.facility_naics_code<='331222') or (EPA.facility_naics_code>='331511' and EPA.facility_naics_code<='331513'))\n",
    "      and year(EPA.reporting_year)>=2014\n",
    "group by EPA.parent_company_name, EPA.lei, year(EPA.reporting_year), F.name, F.lei, year(F.ddate), F.revenue_usd, 10, 11\n",
    "order by EPA.parent_company_name, year(EPA.reporting_year)\n",
    "\"\"\", engine).convert_dtypes()\n",
    "df"
   ]
  },
  {
   "cell_type": "raw",
   "id": "19d79a16-6156-4f05-9867-9dc502598b0f",
   "metadata": {},
   "source": [
    "df[df.sec_name.notnull() & (df.sec_name!=df.epa_name) & (df.sec_lei!=df.epa_lei)]"
   ]
  },
  {
   "cell_type": "raw",
   "id": "7ca404dc-30fe-42c7-974e-30b72d286d42",
   "metadata": {
    "tags": []
   },
   "source": [
    "df.to_csv('/opt/app-root/src/itr-data-pipeline/data/processed/epa-sec.csv', index=False)"
   ]
  },
  {
   "cell_type": "raw",
   "id": "e995b680-3f7e-432f-b70e-b650ca5adc3a",
   "metadata": {},
   "source": [
    "engine.execute(f\"\"\"\n",
    "select EPA.parent_company_name, EPA.lei, year(reporting_year)\n",
    "from epa_ghgrp.parent_company EPA\n",
    "where EPA.ghgrp_facility_id=1000214\n",
    "order by year(reporting_year)\n",
    "\"\"\").fetchall()"
   ]
  },
  {
   "cell_type": "raw",
   "id": "aad6fae5-3d0a-40ce-a55c-dd4642bb4e14",
   "metadata": {},
   "source": [
    "engine.execute(f\"\"\"\n",
    "select F.name, F.lei, F.ddate, F.cik\n",
    "from sec_dera.financials_by_lei F\n",
    "where substr(F.name, 1, 3)='AK '\n",
    "order by F.ddate\n",
    "\"\"\").fetchall()"
   ]
  },
  {
   "cell_type": "code",
   "execution_count": null,
   "id": "6e2de2b7-023a-404f-a9fc-e97985ad5a2d",
   "metadata": {},
   "outputs": [],
   "source": [
    "engine.execute(\n",
    "    f\"select count (*) from (select parent_name from {rmi_schema}.utility_information group by parent_name)\"\n",
    ").fetchall()"
   ]
  },
  {
   "cell_type": "markdown",
   "id": "276dd1c0-2cc2-4cb6-bd3e-3d8fac4adb07",
   "metadata": {},
   "source": [
    "If the following is non-NULL, the Data Vault will reject the company data"
   ]
  },
  {
   "cell_type": "code",
   "execution_count": null,
   "id": "14da03c1-5f0c-42cd-b806-5ea2a1bfecf2",
   "metadata": {},
   "outputs": [],
   "source": [
    "engine.execute(\n",
    "    f\"select C.company_name, C.company_id, EI.* from {demo_schema}.company_data C left join {demo_schema}.intensity_data EI on EI.company_name=C.company_name where EI.co2_intensity_target_by_year is NULL\"\n",
    ").fetchall()"
   ]
  },
  {
   "cell_type": "code",
   "execution_count": null,
   "id": "cd611e4b-f7b2-4b9a-9bc9-e1fdb853642e",
   "metadata": {},
   "outputs": [],
   "source": []
  }
 ],
 "metadata": {
  "kernelspec": {
   "display_name": "Python 3 (ipykernel)",
   "language": "python",
   "name": "python3"
  },
  "language_info": {
   "codemirror_mode": {
    "name": "ipython",
    "version": 3
   },
   "file_extension": ".py",
   "mimetype": "text/x-python",
   "name": "python",
   "nbconvert_exporter": "python",
   "pygments_lexer": "ipython3",
   "version": "3.11.5"
  }
 },
 "nbformat": 4,
 "nbformat_minor": 5
}
