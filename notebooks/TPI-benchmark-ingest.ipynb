{
 "cells": [
  {
   "cell_type": "markdown",
   "id": "4896e4d6-daa5-4708-9f43-0d599ba7e670",
   "metadata": {
    "tags": []
   },
   "source": [
    "# TPI Benchmark Data Pipeline\n",
    "\n",
    "The Benchmark data pipelines organize and assemble benchmark data needed for the ITR tool.  This pipeline supports several TPI Benchmark scenarios (published 20 October 2022).\n"
   ]
  },
  {
   "cell_type": "markdown",
   "id": "4a469d68-26d7-4b07-8481-06d8dd1beb4d",
   "metadata": {},
   "source": [
    "### Environment variables and dot-env\n",
    "\n",
    "The following cell looks for a \"dot-env\" file in some standard locations,\n",
    "and loads its contents into `os.environ`."
   ]
  },
  {
   "cell_type": "code",
   "execution_count": null,
   "id": "9e2548c9-2e92-4db5-aecd-6ba64c5f59a2",
   "metadata": {},
   "outputs": [],
   "source": [
    "from dotenv import dotenv_values, load_dotenv\n",
    "import os\n",
    "import pathlib\n",
    "import numpy as np\n",
    "import pandas as pd\n",
    "import trino\n",
    "from sqlalchemy.engine import create_engine\n",
    "import osc_ingest_trino as osc\n",
    "\n",
    "# import python_pachyderm"
   ]
  },
  {
   "cell_type": "markdown",
   "id": "016b9282-c249-45ca-adea-dd9e6f56056e",
   "metadata": {},
   "source": [
    "Define Environment and Execution Variables"
   ]
  },
  {
   "cell_type": "code",
   "execution_count": null,
   "id": "44e0c077-bfbf-41d1-ab61-ac39856216b0",
   "metadata": {},
   "outputs": [],
   "source": [
    "# Load environment variables from credentials.env\n",
    "osc.load_credentials_dotenv()"
   ]
  },
  {
   "cell_type": "code",
   "execution_count": null,
   "id": "1917075f-fb16-440a-9f5b-d1c61124ec2c",
   "metadata": {},
   "outputs": [],
   "source": [
    "import io\n",
    "import json\n",
    "from math import log10\n",
    "import itertools"
   ]
  },
  {
   "cell_type": "code",
   "execution_count": null,
   "id": "045da39d-b4da-479f-8d03-55818fbd36c8",
   "metadata": {},
   "outputs": [],
   "source": [
    "# See data-platform-demo/pint-demo.ipynb for quantify/dequantify functions\n",
    "\n",
    "import warnings  # needed until quantile behaves better with Pint quantities in arrays\n",
    "from pint import set_application_registry, Quantity\n",
    "from pint_pandas import PintArray, PintType\n",
    "from openscm_units import unit_registry\n",
    "from common_units import ureg\n",
    "\n",
    "Q_ = ureg.Quantity\n",
    "PA_ = PintArray"
   ]
  },
  {
   "cell_type": "markdown",
   "id": "76dd9d51-0532-44b9-a3fc-a78a301edf4c",
   "metadata": {},
   "source": [
    "### S3 and boto3"
   ]
  },
  {
   "cell_type": "raw",
   "id": "5d935c2d-fc18-497f-91fa-7f96af39a772",
   "metadata": {},
   "source": [
    "import boto3\n",
    "\n",
    "s3_source = boto3.resource(\n",
    "    service_name=\"s3\",\n",
    "    endpoint_url=os.environ[\"S3_LANDING_ENDPOINT\"],\n",
    "    aws_access_key_id=os.environ[\"S3_LANDING_ACCESS_KEY\"],\n",
    "    aws_secret_access_key=os.environ[\"S3_LANDING_SECRET_KEY\"],\n",
    ")\n",
    "source_bucket = s3_source.Bucket(os.environ[\"S3_LANDING_BUCKET\"])"
   ]
  },
  {
   "cell_type": "markdown",
   "id": "a12b224f-addc-43ec-b53e-d684b4c8ef67",
   "metadata": {},
   "source": [
    "### Connecting to Trino with sqlalchemy\n",
    "\n",
    "In the context of the Data Vault, this pipeline operates with full visibiilty into all the data it prepares for the ITR tool.  When the data is output, it is labeled so that the Data Vault can enforce its data management access rules."
   ]
  },
  {
   "cell_type": "code",
   "execution_count": null,
   "id": "d8a756db-291f-48ad-8ae8-dad3da4af325",
   "metadata": {},
   "outputs": [],
   "source": [
    "ingest_catalog = \"osc_datacommons_dev\"\n",
    "ingest_schema = \"sandbox\"\n",
    "dera_schema = \"sandbox\"\n",
    "dera_prefix = \"dera_\"\n",
    "gleif_schema = \"sandbox\"\n",
    "rmi_schema = \"sandbox\"\n",
    "iso3166_schema = \"sandbox\"\n",
    "essd_schema = \"sandbox\"\n",
    "essd_prefix = \"essd_\"\n",
    "demo_schema = \"demo_dv\"\n",
    "\n",
    "# engine = osc.attach_trino_engine(verbose=True, catalog=ingest_catalog)"
   ]
  },
  {
   "cell_type": "code",
   "execution_count": null,
   "id": "b011943e-f1dd-428d-90f0-2b62b549f6c5",
   "metadata": {},
   "outputs": [],
   "source": [
    "# TPI Benchmark arrives in DataFrame-ready format.  Read the CSV file and then we'll tidy it up\n",
    "\n",
    "benchmark_TPI_dir = os.path.abspath(\"../data/external/TPI 20221022\")\n",
    "\n",
    "csv_df = pd.read_csv(pathlib.Path(benchmark_TPI_dir, \"Sector_Benchmarks_20102022.csv\"))\n",
    "csv_df[\"Release date\"] = pd.to_datetime(csv_df[\"Release date\"], dayfirst=True)"
   ]
  },
  {
   "cell_type": "code",
   "execution_count": null,
   "id": "12084189-8873-4cd9-9246-f6c94ae2eabc",
   "metadata": {},
   "outputs": [],
   "source": [
    "bm_dict = {}\n",
    "for scenario_name in csv_df[\"Scenario name\"].unique():\n",
    "    # Until we know the temperature targets of the pledges, don't deal with those as benchmarks per se\n",
    "    if \"Pledges\" in scenario_name:\n",
    "        continue\n",
    "    if scenario_name == \"1.5 Degrees\":\n",
    "        benchmark_temperature = 1.5\n",
    "        benchmark_global_budget = 396  # 66% probability; 500 Gt 50% probability\n",
    "    elif scenario_name == \"Below 2 Degrees\":\n",
    "        benchmark_temperature = 1.65  # 66% probability\n",
    "        benchmark_global_budget = 646\n",
    "    else:\n",
    "        benchmark_temperature = 2.0\n",
    "        benchmark_global_budget = 1229  # starting from 1.5 @ 66% prob, plus 0.5C at 0.0006 tcre\n",
    "    df = csv_df[csv_df[\"Scenario name\"].eq(scenario_name)]\n",
    "    idx = df.groupby([\"Sector name\", \"Region\"])[\"Release date\"].transform(\"max\") == df[\"Release date\"]\n",
    "    df = df.loc[idx].copy()\n",
    "    df[\"benchmark_temperature\"] = benchmark_temperature\n",
    "    df[\"benchmark_global_budget\"] = benchmark_global_budget\n",
    "    df.Unit = (\n",
    "        df.Unit.str.replace(\"Carbon intensity \", \"\")\n",
    "        .str.replace(\"Emissions intensity \", \"\")\n",
    "        .str.replace(\"metric tonnes of\", \"t\")\n",
    "        .str.replace(\"CO2e\", \"CO2\")\n",
    "        .str.replace(\"gCO2\", \"g CO2\")\n",
    "        .str.replace(\"tonnes of\", \"t\")\n",
    "        .str.replace(\"t-km\", \"tkm\")\n",
    "        .str.replace(\"RTK\", \"tkm\")\n",
    "        .str.replace(\"/ t aluminium\", \"/(t Aluminum)\")\n",
    "        .str.replace(\" per tonne of cementitious product\", \"/(t Cement)\")\n",
    "        .str.replace(\"tonne copper equivalent\", \"(t Copper)\")\n",
    "        .str.replace(\" per tonne of steel\", \"/(t Steel)\")\n",
    "        .str.replace(\" per MWh electricity generation\", \"/MWh\")\n",
    "        .str.replace(\" per tonne of pulp, paper and paperboard\", \"/(t Paper)\")\n",
    "        .str.replace(\"tonne \", \"t \")\n",
    "        .str.replace(\"tCO2\", \"t CO2\")\n",
    "        .map(lambda x: x[1:-1])\n",
    "    )\n",
    "    df.Region = df.Region.str.replace(\"North-America\", \"North America\")\n",
    "    bm_dict[scenario_name] = df\n",
    "print(bm_dict.keys())\n",
    "display(bm_dict[\"2 Degrees\"])"
   ]
  },
  {
   "cell_type": "code",
   "execution_count": null,
   "id": "6bda265b-c85d-4f93-af94-13652df89356",
   "metadata": {},
   "outputs": [],
   "source": [
    "df = bm_dict[\"1.5 Degrees\"]\n",
    "\n",
    "df[[\"Sector name\", \"Region\", \"Unit\", \"2019\", \"2030\", \"2050\"]]"
   ]
  },
  {
   "cell_type": "markdown",
   "id": "94c4bfeb-3013-4548-bd63-d781d5014b70",
   "metadata": {},
   "source": [
    "### Construct JSON benchmark structures\n",
    "\n",
    "0.  TPI proivdes annual benchmark values so no need to interpolate\n",
    "1.  TPI defines region-speciifc benchmarks for Electricity Utilities, all others Global\n",
    "2.  Different sectors have different scopes for benchmarks (S1, S1S2, S1S2S3)\n",
    "3.  Only emit the latest version of the benchmark\n",
    "4.  There are several potential global carbon budgets:\n",
    "    a.  50/50 chance of 1.5C\n",
    "    b.  66% chance of 1.5C\n",
    "    c.  Below 2 degrees == 1.65C\n",
    "    d.  2 degrees (Shift-improve, High-efficiency, Default)"
   ]
  },
  {
   "cell_type": "code",
   "execution_count": null,
   "id": "d091b5a3-4e3b-48f0-bbd8-2e7dab7a350e",
   "metadata": {},
   "outputs": [],
   "source": [
    "# https://til.simonwillison.net/python/json-floating-point\n",
    "# Modified to blend the concept of \"precision after the decimal point\" with \"significant figures\" (SF).\n",
    "# For numbers in (-1,1), gives PRECISION=3 sig figs.  For numbers outside that range, but within (-10,10), an addition SF.\n",
    "# Will provide up to PRECISION-1 additional SFs (default 2) for larger absolute magnitudes.\n",
    "\n",
    "\n",
    "# from math import log10\n",
    "def round_floats(o, precision=3):\n",
    "    if isinstance(o, float):\n",
    "        if o == 0 or np.isnan(o):\n",
    "            return 0\n",
    "        lo = int(log10(abs(o))) - (abs(o) > 10)\n",
    "        if precision + lo < 0:\n",
    "            return 0\n",
    "        if precision * 2 < lo:\n",
    "            return round(o)\n",
    "        return round(o, precision - lo)\n",
    "    if isinstance(o, dict):\n",
    "        return {k: round_floats(v, precision) for k, v in o.items()}\n",
    "    if isinstance(o, (list, tuple)):\n",
    "        return [round_floats(x, precision) for x in o]\n",
    "    if isinstance(o, pd.Timestamp):\n",
    "        dt, hms = str(o).split(\" \")\n",
    "        if hms == \"00:00:00\":\n",
    "            return dt\n",
    "        return str(o)\n",
    "    return o"
   ]
  },
  {
   "cell_type": "code",
   "execution_count": null,
   "id": "0e95c26c-9c7c-4683-9c53-fc7e68049bae",
   "metadata": {},
   "outputs": [],
   "source": [
    "ei_sectors_scope = {\n",
    "    \"Electricity Utilities\": \"S1\",\n",
    "    \"Oil & Gas\": \"S1S2S3\",\n",
    "    \"Autos\": \"S3\",\n",
    "    \"Airlines\": \"S1\",\n",
    "    \"Shipping\": \"S1\",\n",
    "    \"Cement\": \"S1\",\n",
    "    \"Diversified Mining\": \"S1S2S3\",\n",
    "    \"Steel\": \"S1S2\",\n",
    "    \"Aluminum\": \"S1S2\",\n",
    "    \"Aluminium\": \"S1S2\",\n",
    "    \"Paper\": \"S1S2\",\n",
    "}"
   ]
  },
  {
   "cell_type": "code",
   "execution_count": null,
   "id": "0c113b03-de48-4edd-97af-3c89da38cff1",
   "metadata": {},
   "outputs": [],
   "source": [
    "ei_bms = {}\n",
    "\n",
    "for scenario_name, df in bm_dict.items():\n",
    "    try:\n",
    "        ei_bms[scenario_name] = {\n",
    "            \"benchmark_temperature\": f\"{df.iloc[0].benchmark_temperature} delta_degC\",\n",
    "            \"benchmark_global_budget\": f\"{df.iloc[0].benchmark_global_budget} Gt CO2\",\n",
    "            \"is_AFOLU_included\": False,\n",
    "        }\n",
    "    except IndexError:\n",
    "        print(df)\n",
    "        print(scenario_name)\n",
    "\n",
    "    for scope in [\"S1\", \"S1S2\", \"S1S2S3\", \"S3\"]:\n",
    "        bm_scope = {\n",
    "            \"benchmarks\": [\n",
    "                {\n",
    "                    \"sector\": row[\"Sector name\"],\n",
    "                    \"region\": row[\"Region\"],\n",
    "                    \"benchmark_metric\": row[\"Unit\"],\n",
    "                    \"scenario name\": f\"TPI {scenario_name}\",\n",
    "                    \"release date\": str(row[\"Release date\"]).split(\" \")[0],\n",
    "                    \"projections_nounits\": [{\"year\": year, \"value\": row[str(year)]} for year in range(2019, 2051)],\n",
    "                }\n",
    "                for index, row in df.iterrows()\n",
    "                if ei_sectors_scope[row[\"Sector name\"]] == scope\n",
    "            ]\n",
    "        }\n",
    "        if len(bm_scope[\"benchmarks\"]):\n",
    "            ei_bms[scenario_name][scope] = bm_scope"
   ]
  },
  {
   "cell_type": "markdown",
   "id": "b471c769-e406-4afc-8944-2d68dd03f053",
   "metadata": {},
   "source": [
    "### Emit Sector Benchmark Data"
   ]
  },
  {
   "cell_type": "code",
   "execution_count": null,
   "id": "ac1a3f56-53c1-4f69-8459-d2e7a5b9ad78",
   "metadata": {},
   "outputs": [],
   "source": [
    "output_datadir = os.path.abspath(\"../data/processed/TPI 20220504\")\n",
    "pathlib.Path(output_datadir).mkdir(parents=True, exist_ok=True)"
   ]
  },
  {
   "cell_type": "code",
   "execution_count": null,
   "id": "82f9cd58-25fa-4222-b947-3fc239e18125",
   "metadata": {
    "tags": []
   },
   "outputs": [],
   "source": [
    "for scenario_name, bm in ei_bms.items():\n",
    "    path_name = scenario_name.translate(str.maketrans(\" .-\", \"___\", \"()\")).lower()\n",
    "    with open(pathlib.Path(output_datadir, f\"benchmark_EI_TPI_{path_name}.json\"), \"w\") as f:\n",
    "        json.dump(round_floats(bm), sort_keys=False, indent=2, fp=f)\n",
    "        print(\"\", file=f)"
   ]
  },
  {
   "cell_type": "code",
   "execution_count": null,
   "id": "e517c8e8-23e0-4b48-8ab4-5f3ef7f37941",
   "metadata": {},
   "outputs": [],
   "source": []
  }
 ],
 "metadata": {
  "kernelspec": {
   "display_name": "Python 3 (ipykernel)",
   "language": "python",
   "name": "python3"
  },
  "language_info": {
   "codemirror_mode": {
    "name": "ipython",
    "version": 3
   },
   "file_extension": ".py",
   "mimetype": "text/x-python",
   "name": "python",
   "nbconvert_exporter": "python",
   "pygments_lexer": "ipython3",
   "version": "3.11.5"
  }
 },
 "nbformat": 4,
 "nbformat_minor": 5
}
